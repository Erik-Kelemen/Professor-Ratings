{
 "cells": [
  {
   "cell_type": "code",
   "execution_count": 1,
   "metadata": {},
   "outputs": [],
   "source": [
    "import requests\n",
    "\n",
    "import sqlite3\n",
    "from sqlite3 import Error\n",
    "\n",
    "import os\n",
    "from os import path\n",
    "\n",
    "import pandas as pd"
   ]
  },
  {
   "cell_type": "code",
   "execution_count": 14,
   "metadata": {},
   "outputs": [],
   "source": [
    "from psaw import PushshiftAPI\n",
    "api = PushshiftAPI()\n",
    "\n",
    "buildapcsales = 'buildapcsales'\n",
    "sub_filter = ['title',  'score', 'created_utc', 'link_id']\n",
    "\n",
    "last_utc = None\n",
    "\n",
    "gen = api.search_submissions(\n",
    "    subreddit=buildapcsales, \n",
    "    q=\"[Monitor]\",\n",
    "    filter=sub_filter,\n",
    "    limit=10,\n",
    "    sort_type='score',\n",
    ")\n",
    "\n",
    "mobos = list(gen)\n",
    "last_utc = mobos[-1].created_utc\n"
   ]
  },
  {
   "cell_type": "markdown",
   "metadata": {},
   "source": [
    "### BigQuery with fh-bigquery's dataset"
   ]
  },
  {
   "cell_type": "code",
   "execution_count": 38,
   "metadata": {},
   "outputs": [],
   "source": [
    "query = \"\"\"\n",
    "        SELECT\n",
    "            title,\n",
    "            score\n",
    "        FROM\n",
    "            `fh-bigquery.reddit_posts.2018_11`\n",
    "        WHERE\n",
    "            subreddit LIKE 'UMD'\n",
    "        LIMIT 1\n",
    "\"\"\"\n",
    "res = pd.read_gbq(query, project_id=\"cmsc320-final-tutorial-296316\")"
   ]
  },
  {
   "cell_type": "code",
   "execution_count": 39,
   "metadata": {},
   "outputs": [
    {
     "name": "stdout",
     "output_type": "stream",
     "text": [
      "                               title  score\n",
      "0  READ THE EMAIL FROM DAVID MCBRIDE     15\n"
     ]
    }
   ],
   "source": [
    "print(res)"
   ]
  },
  {
   "cell_type": "code",
   "execution_count": null,
   "metadata": {},
   "outputs": [],
   "source": []
  }
 ],
 "metadata": {
  "kernelspec": {
   "display_name": "Python 3",
   "language": "python",
   "name": "python3"
  },
  "language_info": {
   "codemirror_mode": {
    "name": "ipython",
    "version": 3
   },
   "file_extension": ".py",
   "mimetype": "text/x-python",
   "name": "python",
   "nbconvert_exporter": "python",
   "pygments_lexer": "ipython3",
   "version": "3.8.5"
  }
 },
 "nbformat": 4,
 "nbformat_minor": 4
}
