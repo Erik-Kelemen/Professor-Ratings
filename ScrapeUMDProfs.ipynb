{
 "cells": [
  {
   "cell_type": "markdown",
   "metadata": {},
   "source": [
    "# Scraping UMD Faculty"
   ]
  },
  {
   "cell_type": "code",
   "execution_count": 3,
   "metadata": {},
   "outputs": [],
   "source": [
    "import requests\n",
    "from bs4 import BeautifulSoup"
   ]
  },
  {
   "cell_type": "code",
   "execution_count": 35,
   "metadata": {},
   "outputs": [],
   "source": [
    "headers = {\n",
    "    \"User-Agent\": \"Mozilla/5.0 (Windows NT 10.0; Win64; x64; rv:82.0) Gecko/20100101 Firefox/82.0\",\n",
    "    \"Access-Control-Allow-Origin\": \"*\",\n",
    "    \"Access-Control-Allow-Headers\": \"Content-Type\",\n",
    "    \"Access-Control-Allow-Methods\": \"GET\"\n",
    "}\n",
    "\n",
    "faculty_url = \"https://academiccatalog.umd.edu/undergraduate/administrators-officials-faculty/\"\n",
    "response = requests.get(faculty_url, headers)\n",
    "\n",
    "if response.status_code == 200:\n",
    "    soup = BeautifulSoup(response.content, 'html.parser')"
   ]
  },
  {
   "cell_type": "code",
   "execution_count": 36,
   "metadata": {},
   "outputs": [],
   "source": [
    "faculty_blocks = soup.find_all(\"p\", class_=\"faculty-item\")\n",
    "\n",
    "CS_Profs = set()\n",
    "ENGR_Profs = set()\n",
    "\n",
    "for block in faculty_blocks:\n",
    "    \n",
    "    # Names are stored within the <strong/> tag\n",
    "    name = block.strong.string \n",
    "    \n",
    "    # content structure: space,  name, space, <br/>, description\n",
    "    contents = block.contents\n",
    "    description = contents[4]\n",
    "    \n",
    "    if \"CMNS\" in description:\n",
    "        CS_Profs.add(name)\n",
    "    \n",
    "    elif \"ENGR\" in description:\n",
    "        ENGR_Profs.add(name)\n",
    "        "
   ]
  },
  {
   "cell_type": "code",
   "execution_count": null,
   "metadata": {},
   "outputs": [],
   "source": []
  }
 ],
 "metadata": {
  "kernelspec": {
   "display_name": "Python 3",
   "language": "python",
   "name": "python3"
  },
  "language_info": {
   "codemirror_mode": {
    "name": "ipython",
    "version": 3
   },
   "file_extension": ".py",
   "mimetype": "text/x-python",
   "name": "python",
   "nbconvert_exporter": "python",
   "pygments_lexer": "ipython3",
   "version": "3.8.5"
  }
 },
 "nbformat": 4,
 "nbformat_minor": 4
}
