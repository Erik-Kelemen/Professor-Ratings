{
 "cells": [
  {
   "cell_type": "markdown",
   "metadata": {},
   "source": [
    "# Reddit Scraper"
   ]
  },
  {
   "cell_type": "markdown",
   "metadata": {},
   "source": [
    "### Takes the necessary data from the UMD Subreddit"
   ]
  },
  {
   "cell_type": "code",
   "execution_count": 2,
   "metadata": {},
   "outputs": [
    {
     "name": "stderr",
     "output_type": "stream",
     "text": [
      "Version 7.0.0 of praw is outdated. Version 7.1.0 was released Tuesday June 23, 2020.\n"
     ]
    }
   ],
   "source": [
    "import praw\n",
    "import pandas as pd\n",
    "\n",
    "reddit = praw.Reddit(client_id='pRiJovF5yCINdg', client_secret='XteXu87uqkRHuabjRLl18hys8TJb2w', user_agent='CMSC320 Final Tutorial Fall 2020')"
   ]
  },
  {
   "cell_type": "code",
   "execution_count": 3,
   "metadata": {},
   "outputs": [
    {
     "name": "stdout",
     "output_type": "stream",
     "text": [
      "                                               title  score      id subreddit  \\\n",
      "0               This Week at UMD - November 09, 2020      4  jqwgvk       UMD   \n",
      "1               This Week at UMD - November 16, 2020      1  jv5p7p       UMD   \n",
      "2                    DROP DEADLINE EXTENDED TO 11/30     57  jv8924       UMD   \n",
      "3                    Progression of zoom invites lol    135  jv1uf6       UMD   \n",
      "4  Trying to find a Girlfriend to buy and share P...    231  juz93y       UMD   \n",
      "5        Cant wait to graduate and start real life 😊     83  jv0alt       UMD   \n",
      "6  Had an assignment due at 9am today, decided to...      8  jv9qdc       UMD   \n",
      "7     I feel like nothing is gonna get better (rant)    206  jut4tr       UMD   \n",
      "8  ALERT: Another cat spotted on South Campus! Dr...     20  jv2ov9       UMD   \n",
      "9                                    CMSC 423 vs 421      2  jv9pyg       UMD   \n",
      "\n",
      "                                                 url  num_comments  \\\n",
      "0  https://www.reddit.com/r/UMD/comments/jqwgvk/t...             6   \n",
      "1  https://www.reddit.com/r/UMD/comments/jv5p7p/t...             1   \n",
      "2                https://i.redd.it/7zh3x6wpamz51.jpg             9   \n",
      "3                https://i.redd.it/z5n5qh7vmjz51.png            11   \n",
      "4  https://www.reddit.com/r/UMD/comments/juz93y/t...            35   \n",
      "5                https://i.redd.it/7mluei862jz51.jpg             5   \n",
      "6  https://www.reddit.com/r/UMD/comments/jv9qdc/h...             1   \n",
      "7  https://www.reddit.com/r/UMD/comments/jut4tr/i...            21   \n",
      "8  https://www.reddit.com/r/UMD/comments/jv2ov9/a...             1   \n",
      "9  https://www.reddit.com/r/UMD/comments/jv9pyg/c...             1   \n",
      "\n",
      "                                                body       created  \n",
      "0  \\nFeel free to promote your student events, ta...  1.604952e+09  \n",
      "1  \\nFeel free to promote your student events, ta...  1.605557e+09  \n",
      "2                                                     1.605568e+09  \n",
      "3                                                     1.605536e+09  \n",
      "4  So I got half the money I need to buy a PS5, a...  1.605524e+09  \n",
      "5                                                     1.605529e+09  \n",
      "6                                   That’s the post.  1.605573e+09  \n",
      "7  I graduate in Spring 2022. Even with a vaccine...  1.605502e+09  \n",
      "8  I already [texted information to the organizat...  1.605540e+09  \n",
      "9  Wanted to take 421 but the waitlist is at like...  1.605573e+09  \n"
     ]
    }
   ],
   "source": [
    "posts = []\n",
    "umd_subreddit = reddit.subreddit('UMD')\n",
    "\n",
    "for post in umd_subreddit.hot(limit=10):\n",
    "    posts.append([post.title, post.score, post.id, post.subreddit, post.url, post.num_comments, post.selftext, post.created])\n",
    "\n",
    "posts = pd.DataFrame(posts,columns=['title', 'score', 'id', 'subreddit', 'url', 'num_comments', 'body', 'created'])\n",
    "\n",
    "print(posts)"
   ]
  },
  {
   "cell_type": "code",
   "execution_count": null,
   "metadata": {},
   "outputs": [],
   "source": []
  }
 ],
 "metadata": {
  "kernelspec": {
   "display_name": "Python 3",
   "language": "python",
   "name": "python3"
  },
  "language_info": {
   "codemirror_mode": {
    "name": "ipython",
    "version": 3
   },
   "file_extension": ".py",
   "mimetype": "text/x-python",
   "name": "python",
   "nbconvert_exporter": "python",
   "pygments_lexer": "ipython3",
   "version": "3.8.5"
  }
 },
 "nbformat": 4,
 "nbformat_minor": 4
}
