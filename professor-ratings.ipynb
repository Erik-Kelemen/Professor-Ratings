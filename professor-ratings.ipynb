{
 "cells": [
  {
   "cell_type": "markdown",
   "metadata": {},
   "source": [
    "# Analyzing Computer Science versus Business Management Introductory Course Professors Reviews and Their Trends Over Time"
   ]
  },
  {
   "cell_type": "markdown",
   "metadata": {},
   "source": [
    "William Ingold, Erik Kelemen, Ashish Manda"
   ]
  },
  {
   "cell_type": "markdown",
   "metadata": {},
   "source": [
    "## Introduction"
   ]
  },
  {
   "cell_type": "markdown",
   "metadata": {},
   "source": []
  },
  {
   "cell_type": "markdown",
   "metadata": {},
   "source": [
    "## Grabbing Introductory Course Professors From UMD.io"
   ]
  },
  {
   "cell_type": "code",
   "execution_count": 127,
   "metadata": {},
   "outputs": [],
   "source": [
    "import requests\n",
    "import pandas as pd\n",
    "professors_url = \"https://api.umd.io/v1/professors\""
   ]
  },
  {
   "cell_type": "code",
   "execution_count": 34,
   "metadata": {},
   "outputs": [],
   "source": [
    "import csv\n",
    "from os import path\n",
    "\n",
    "cmsc_professor_names_filepath = './data/cmsc_professor_names.csv'\n",
    "bmgt_professor_names_filepath = './data/bmgt_professor_names.csv'\n",
    "\n",
    "have_cmsc_professors = path.exists(cmsc_professor_names_filepath)\n",
    "have_bmgt_professors = path.exists(bmgt_professor_names_filepath)\n",
    "\n",
    "def read_professor_name_data(professor_filepath):\n",
    "    \"\"\"Reads the professor names and their courses from a CSV file.\n",
    "    \n",
    "    Args:\n",
    "        professor_filepath: String holding a filepath to the professor csv file.\n",
    "        \n",
    "    Returns:\n",
    "        A dictionary of professor names to a set of courses they have taught.\n",
    "    \"\"\"\n",
    "    \n",
    "    with open(professor_filepath, mode='r') as csv_file:\n",
    "        csv_reader = csv.DictReader(csv_file)\n",
    "        line_count = 0\n",
    "\n",
    "        professors = {}\n",
    "\n",
    "        for row in csv_reader:\n",
    "            if line_count != 0:\n",
    "                professors[row['name']] = set([course for course in row['courses'].split(' ')])\n",
    "            line_count += 1\n",
    "\n",
    "        return professors\n",
    "\n",
    "def save_professor_data(professors, filepath):\n",
    "    \"\"\"Saves the professor names and their courses to a CSV file.\n",
    "    \n",
    "    Args:\n",
    "        professors: A dictionary of professor name keys and a set of courses for values.\n",
    "    \"\"\"\n",
    "    \n",
    "    columns = ['name', 'courses']\n",
    "    try:\n",
    "        with open(filepath, 'w') as csvfile:\n",
    "            writer = csv.DictWriter(csvfile, fieldnames=columns)\n",
    "            writer.writeheader()\n",
    "            \n",
    "            for name, courses in professors.items():\n",
    "                writer.writerow({'name': name, 'courses': ' '.join(courses)})\n",
    "                \n",
    "    except IOError:\n",
    "        print(\"Error in writing the CSV file\")"
   ]
  },
  {
   "cell_type": "code",
   "execution_count": 35,
   "metadata": {},
   "outputs": [],
   "source": [
    "def get_professors_for_courses(course_ids):\n",
    "    \"\"\"Gets all the professors for the given course_ids and returns a list of them.\n",
    "    \n",
    "    Args:\n",
    "        course_ids: A list of course ids (e.g. ['CMSC216', CMSC250']).\n",
    "        \n",
    "    Returns:\n",
    "        List of professors that teach the given courses.\n",
    "    \n",
    "    \"\"\"\n",
    "    \n",
    "    professors = {}\n",
    "    \n",
    "    for course_id in course_ids:\n",
    "        params = {'course_id': course_id}\n",
    "\n",
    "        response = requests.get(professors_url, params)\n",
    "        \n",
    "        if response.status_code == 200:\n",
    "\n",
    "            for item in response.json():\n",
    "                name = item['name']\n",
    "\n",
    "                if name in professors:\n",
    "                    professors[name].add(course_id)\n",
    "                else:\n",
    "                    professors[name] = {course_id}\n",
    "\n",
    "    return professors"
   ]
  },
  {
   "cell_type": "markdown",
   "metadata": {},
   "source": [
    "### Computer Science Professors"
   ]
  },
  {
   "cell_type": "code",
   "execution_count": 36,
   "metadata": {},
   "outputs": [
    {
     "name": "stdout",
     "output_type": "stream",
     "text": [
      "{'Fawzi Emad': {'CMSC132', 'CMSC250', 'CMSC131'}, 'Ilchul Yoon': {'CMSC132', 'CMSC216', 'CMSC131'}, 'Nelson Padua-Perez': {'CMSC132', 'CMSC216', 'CMSC131'}, 'Pedram Sadeghian': {'CMSC132', 'CMSC131'}, 'Anwar Mamat': {'CMSC132'}, 'Laurence Herman': {'CMSC132', 'CMSC216'}, 'A Shankar': {'CMSC216'}, 'Aditya Acharya': {'CMSC250'}, 'Alexander Brassel': {'CMSC250'}, 'Clyde Kruskal': {'CMSC250'}, 'David Sekora': {'CMSC250'}, 'Donald Perlis': {'CMSC250'}, 'Jason Filippou': {'CMSC250'}, 'Mohammad Nayeem Teli': {'CMSC250'}, 'Roger Eastman': {'CMSC250'}}\n"
     ]
    }
   ],
   "source": [
    "cmsc_course_ids = [\"CMSC131\", \"CMSC132\", \"CMSC216\", \"CMSC250\"]\n",
    "\n",
    "# TODO: Dr. Eastman has taught CMSC131, per RateMyProfessor, but wasn't given via UMD.IO\n",
    "\n",
    "# Only query the UMD.io API if we don't have the data\n",
    "if not have_cmsc_professors:\n",
    "    cmsc_professors = get_professors_for_courses(cmsc_course_ids)\n",
    "    save_professor_data(cmsc_professors, cmsc_professor_names_filepath)\n",
    "    have_cmsc_professors = True\n",
    "else: \n",
    "    cmsc_professors = read_professor_name_data(cmsc_professor_names_filepath)\n",
    "\n",
    "    if not cmsc_professors:\n",
    "        print(\"Error response from umd.io API\")\n",
    "\n",
    "if 'Iason Filippou' in cmsc_professors:\n",
    "    cmsc_professors.pop('Iason Filippou') # A typo of Jason Filippou from the database\n",
    "    \n",
    "print(cmsc_professors)"
   ]
  },
  {
   "cell_type": "markdown",
   "metadata": {},
   "source": [
    "### Business Management Professors"
   ]
  },
  {
   "cell_type": "code",
   "execution_count": 37,
   "metadata": {},
   "outputs": [
    {
     "name": "stdout",
     "output_type": "stream",
     "text": [
      "{'Jeff Miller': {'BMGT110'}, 'Cody Hyman': {'BMGT220'}, 'Laurel Mazur': {'BMGT221', 'BMGT220'}, 'Progyan Basu': {'BMGT220'}, 'Viktoriya Zotova': {'BMGT220'}, 'Gary Bulmash': {'BMGT221'}, 'Gerald Ward': {'BMGT221'}, 'Ai Ren': {'BMGT230'}, 'Daehoon Noh': {'BMGT230'}, 'Erich Studer-Ellis': {'BMGT230'}, 'Huan Cao': {'BMGT230'}, 'Radu Lazar': {'BMGT230'}, 'Shubham Akshat': {'BMGT230'}, 'Ziwei Cao': {'BMGT230'}}\n"
     ]
    }
   ],
   "source": [
    "bmgt_course_ids = [\"BMGT110\", \"BMGT220\", \"BMGT221\", \"BMGT230\"]\n",
    "\n",
    "# Only query the UMD.io API if we don't have the data\n",
    "if not have_bmgt_professors:\n",
    "    bmgt_professors = get_professors_for_courses(bmgt_course_ids)\n",
    "    save_professor_data(bmgt_professors, bmgt_professor_names_filepath)\n",
    "    have_bmgt_professors = True\n",
    "else:\n",
    "    bmgt_professors = read_professor_name_data(bmgt_professor_names_filepath)\n",
    "\n",
    "    if not bmgt_professors:\n",
    "        print(\"Error response from umd.io API\")\n",
    "\n",
    "print(bmgt_professors)"
   ]
  },
  {
   "cell_type": "markdown",
   "metadata": {},
   "source": [
    "## Grabbing Reviews"
   ]
  },
  {
   "cell_type": "markdown",
   "metadata": {},
   "source": [
    "### Setup Databases to Hold Review Data"
   ]
  },
  {
   "cell_type": "code",
   "execution_count": 85,
   "metadata": {},
   "outputs": [],
   "source": [
    "import sqlite3\n",
    "from sqlite3 import Error\n",
    "\n",
    "db_filepath = './data/db/'\n",
    "bmgt_rmp_db_filepath = db_filepath + 'bmgt_rmp.db'\n",
    "cmsc_rmp_db_filepath = db_filepath + 'cmsc_rmp.db'\n",
    "\n",
    "cmsc_rmp_db_exists = path.exists(cmsc_rmp_db_filepath)\n",
    "bmgt_rmp_db_exists = path.exists(bmgt_rmp_db_filepath)\n",
    "\n",
    "def create_connection(db_file):\n",
    "    \"\"\"Create a connection to the provided database file.\n",
    "    \n",
    "    Args:\n",
    "        db_file: A string holding the filepath to a database.\n",
    "    \"\"\"\n",
    "    \n",
    "    conn = None\n",
    "    print(db_file)\n",
    "    try:\n",
    "        conn = sqlite3.connect(db_file)\n",
    "        return conn\n",
    "    except Error as e:\n",
    "        print(e)\n",
    "\n",
    "    return conn\n",
    "\n",
    "def execute_create_command(conn, sql_command, params=()):\n",
    "    \"\"\"Executes the provided sql_command on the provided database.\n",
    "    \n",
    "    Args:\n",
    "        conn: The connection object to the database.\n",
    "        sql_command: A string containing the SQL command.\n",
    "        params: A tuple of potential parameters.\n",
    "    \"\"\"\n",
    "    \n",
    "    try:\n",
    "        c = conn.cursor()\n",
    "        c.execute(sql_command, params)\n",
    "        \n",
    "    except Error as e:\n",
    "        print(e)\n",
    "        \n",
    "def execute_insert_command(conn, sql_command, params=()):\n",
    "    \"\"\"Executes the provided sql_command on the provided database.\n",
    "    \n",
    "    Args:\n",
    "        conn: The connection object to the database.\n",
    "        sql_command: A string containing the SQL command.\n",
    "        params: A tuple of potential parameters.\n",
    "    \"\"\"\n",
    "    \n",
    "    try:\n",
    "        c = conn.cursor()\n",
    "        c.execute(sql_command, params)\n",
    "        conn.commit()\n",
    "        \n",
    "        return c.lastrowid\n",
    "    except Error as e:\n",
    "        print(e)\n",
    "        \n",
    "def execute_query_command(conn, sql_command, params=()):\n",
    "    \"\"\"Executes the provided sql_command on the provided database.\n",
    "    \n",
    "    Args:\n",
    "        conn: The connection object to the database.\n",
    "        sql_command: A string containing the SQL command.\n",
    "        params: A tuple of potential parameters.\n",
    "    \"\"\"\n",
    "    \n",
    "    try:\n",
    "        c = conn.cursor()\n",
    "        c.execute(sql_command, params)\n",
    "        \n",
    "        return c.fetchall()\n",
    "    \n",
    "    except Error as e:\n",
    "        print(e)"
   ]
  },
  {
   "cell_type": "code",
   "execution_count": 105,
   "metadata": {},
   "outputs": [
    {
     "name": "stdout",
     "output_type": "stream",
     "text": [
      "./data/db/cmsc_rmp.db\n",
      "./data/db/bmgt_rmp.db\n"
     ]
    }
   ],
   "source": [
    "def create_rmp_tables(rmp_conn):\n",
    "    \"\"\"Create the stats and review tables for RateMyProfessors data.\n",
    "    \n",
    "    Args:\n",
    "        rmp_conn: Connection object to a RateMyProfessors database.\n",
    "    \"\"\"\n",
    "    \n",
    "    stats_table = \"\"\" CREATE TABLE IF NOT EXISTS professor_stats (\n",
    "                        id INTEGER PRIMARY KEY,\n",
    "                        first_name TEXT NOT NULL,\n",
    "                        last_name TEXT NOT NULL,\n",
    "                        full_name TEXT NOT NULL UNIQUE,\n",
    "                        rating REAL,\n",
    "                        take_again REAL,\n",
    "                        difficulty REAL,\n",
    "                        rating_count INTEGER NOT NULL,\n",
    "                        gives_good_feedback INTEGER,\n",
    "                        respected INTEGER,\n",
    "                        lots_of_homework INTEGER,\n",
    "                        accessible_outside_class INTEGER,\n",
    "                        get_ready_to_read INTEGER,\n",
    "                        participation_matters INTEGER,\n",
    "                        skip_class_wont_pass INTEGER,\n",
    "                        inspirational INTEGER,\n",
    "                        graded_by_few_things INTEGER,\n",
    "                        test_heavy INTEGER,\n",
    "                        group_projects INTEGER,\n",
    "                        clear_grading_criteria INTEGER,\n",
    "                        hilarious INTEGER,\n",
    "                        beware_of_pop_quizes INTEGER,\n",
    "                        amazing_lectures INTEGER,\n",
    "                        lecture_heavy INTEGER,\n",
    "                        caring INTEGER,\n",
    "                        extra_credit INTEGER,\n",
    "                        so_many_papers INTEGER,\n",
    "                        tough_grader INTEGER\n",
    "                    ) \"\"\"\n",
    "    \n",
    "    # TODO: Review id format? <professor last name>-<#> ?\n",
    "    review_table = \"\"\" CREATE TABLE IF NOT EXISTS reviews (\n",
    "                        id INTEGER PRIMARY KEY,\n",
    "                        review_id TEXT NOT NULL UNIQUE,\n",
    "                        course TEXT NOT NULL,\n",
    "                        date INTEGER NOT NULL,\n",
    "                        body TEXT NOT NULL,\n",
    "                        thumb_up INTEGER,\n",
    "                        thumb_down INTEGER,\n",
    "                        quality REAL NOT NULL,\n",
    "                        difficulty REAL NOT NULL,\n",
    "                        take_again INTEGER NOT NULL,\n",
    "                        for_credit INTEGER NOT NULL,\n",
    "                        textbook_use INTEGER NOT NULL,\n",
    "                        attendance INTEGER,\n",
    "                        grade_received TEXT,\n",
    "                        online_class INTEGER,\n",
    "                        gives_good_feedback INTEGER,\n",
    "                        respected INTEGER,\n",
    "                        lots_of_homework INTEGER,\n",
    "                        accessible_outside_class INTEGER,\n",
    "                        get_ready_to_read INTEGER,\n",
    "                        participation_matters INTEGER,\n",
    "                        skip_class_wont_pass INTEGER,\n",
    "                        inspirational INTEGER,\n",
    "                        graded_by_few_things INTEGER,\n",
    "                        test_heavy INTEGER,\n",
    "                        group_projects INTEGER,\n",
    "                        clear_grading_criteria INTEGER,\n",
    "                        hilarious INTEGER,\n",
    "                        beware_of_pop_quizes INTEGER,\n",
    "                        amazing_lectures INTEGER,\n",
    "                        lecture_heavy INTEGER,\n",
    "                        caring INTEGER,\n",
    "                        extra_credit INTEGER,\n",
    "                        so_many_papers INTEGER,\n",
    "                        tough_grader INTEGER\n",
    "                   ) \"\"\"\n",
    "    \n",
    "    execute_create_command(rmp_conn, stats_table)\n",
    "    execute_create_command(rmp_conn, review_table)\n",
    "\n",
    "cmsc_rmp_db = create_connection(cmsc_rmp_db_filepath)\n",
    "bmgt_rmp_db = create_connection(bmgt_rmp_db_filepath)\n",
    "\n",
    "create_rmp_tables(cmsc_rmp_db)\n",
    "create_rmp_tables(bmgt_rmp_db)"
   ]
  },
  {
   "cell_type": "code",
   "execution_count": 87,
   "metadata": {},
   "outputs": [],
   "source": [
    "def is_rmp_scraped(rmp_conn, professor_name):\n",
    "    \"\"\"Returns if the professor's RateMyProfessors page has been scraped already.\n",
    "    \n",
    "    Args:\n",
    "        rmp_conn: Connection object to the appropriate rmp database.\n",
    "        professor_name: String holding the professor's name.\n",
    "    \"\"\"\n",
    "    \n",
    "    first_name, last_name = professor_name.split()\n",
    "    \n",
    "    sql_command = \"\"\"SELECT\n",
    "                        first_name,\n",
    "                        last_name\n",
    "                    FROM\n",
    "                        professor_stats ps\n",
    "                    WHERE\n",
    "                        first_name LIKE ? AND last_name LIKE ?\"\"\"\n",
    "    \n",
    "    params=('%'+first_name+'%', '%'+last_name+'%')\n",
    "    \n",
    "    result = execute_query_command(rmp_conn, sql_command, params)\n",
    "    \n",
    "    return result is not None"
   ]
  },
  {
   "cell_type": "code",
   "execution_count": 112,
   "metadata": {},
   "outputs": [],
   "source": [
    "def insert_rmp_professor_stats(rmp_conn, professor_name, stats, tag_list):\n",
    "    first_name, last_name = professor_name.split(' ')\n",
    "    name_count = 3\n",
    "    column_count = name_count + len(stats) + len(tag_list)\n",
    "    \n",
    "    # Question mark for each value to be filled, don't want a trailing comma\n",
    "    question_marks = \"?,\" * (column_count - 1)\n",
    "    question_marks = question_marks + \"?\"\n",
    "    \n",
    "    tags = ','.join(tag_list.keys())\n",
    "    \n",
    "    insert_stats_sql = \"\"\" INSERT INTO professor_stats (\n",
    "                            first_name,\n",
    "                            last_name,\n",
    "                            full_name,\n",
    "                            rating,\n",
    "                            take_again,\n",
    "                            difficulty,\n",
    "                            rating_count,\n",
    "                            {tags}\n",
    "                    )\n",
    "                    VALUES({question_marks})\n",
    "                    \"\"\".format(question_marks=question_marks, tags=tags)\n",
    "    \n",
    "    # TODO: Need to surround with % ?\n",
    "    values = tuple([first_name, last_name, professor_name] + list(stats.values()) + list(tag_list.values()))\n",
    "    \n",
    "    return execute_insert_command(rmp_conn, insert_stats_sql, values)"
   ]
  },
  {
   "cell_type": "markdown",
   "metadata": {},
   "source": [
    "## From RateMyProfessor"
   ]
  },
  {
   "cell_type": "code",
   "execution_count": 121,
   "metadata": {},
   "outputs": [
    {
     "name": "stdout",
     "output_type": "stream",
     "text": [
      "{'would take again': 'would_take_again', 'grade': 'grade', 'textbook': 'textbook', 'online class': 'online_class', 'for credit': 'for_credit', 'attendance': 'attendance'}\n",
      "['review_id', 'course', 'date', 'quality', 'difficulty', 'body', 'thumb_up', 'thumb_down', 'would_take_again', 'grade', 'textbook', 'online_class', 'for_credit', 'attendance', 'gives_good_feedback', 'respected', 'lots_of_homework', 'accessible_outside_class', 'get_ready_to_read', 'participation_matters', 'inspirational', 'graded_by_few_things', 'test_heavy', 'group_projects', 'clear_grading_criteria', 'hilarious', 'beware_of_pop_quizes', 'amazing_lectures', 'lecture_heavy', 'caring', 'extra_credit', 'so_many_papers', 'tough_grader', 'skip_class_wont_pass']\n"
     ]
    }
   ],
   "source": [
    "from bs4 import BeautifulSoup\n",
    "\n",
    "ratemyprofessor_url = \"https://www.ratemyprofessors.com/search.jsp\"\n",
    "\n",
    "params = {'queryoption':'HEADER', 'schoolID':'1270', 'queryBy':'teacherName', 'schoolName':'University+of+Maryland'}\n",
    "\n",
    "headers = {\n",
    "    \"User-Agent\": \"Mozilla/5.0 (Windows NT 10.0; Win64; x64; rv:82.0) Gecko/20100101 Firefox/82.0\",\n",
    "    \"Access-Control-Allow-Origin\": \"*\",\n",
    "    \"Access-Control-Allow-Headers\": \"Content-Type\",\n",
    "    \"Access-Control-Allow-Methods\": \"GET\"\n",
    "}\n",
    "\n",
    "tag_list = ['gives_good_feedback', 'respected', 'lots_of_homework', 'accessible_outside_class',\n",
    "           'get_ready_to_read', 'participation_matters', 'inspirational',\n",
    "           'graded_by_few_things', 'test_heavy', 'group_projects', 'clear_grading_criteria', \n",
    "           'hilarious', 'beware_of_pop_quizes', 'amazing_lectures', 'lecture_heavy', 'caring',\n",
    "           'extra_credit', 'so_many_papers', 'tough_grader', 'skip_class_wont_pass']\n",
    "\n",
    "text_tag_list = [' '.join(x.split('_')) for x in tag_list]\n",
    "text_tag_list.remove('skip class wont pass')\n",
    "text_tag_list.append(\"skip class? you won't pass.\")\n",
    "\n",
    "# both tag_list and text_tag_list in same order, and correspond to one another\n",
    "text_tag_dict = {text_tag_list[i]: tag_list[i] for i in range(len(text_tag_list))}\n",
    "\n",
    "review_meta_list = ['would_take_again', 'grade', 'textbook', 'online_class', 'for_credit', 'attendance']\n",
    "review_text_meta_list = [' '.join(x.split('_')) for x in review_meta_list]\n",
    "review_meta_dict = {review_text_meta_list[i]: review_meta_list[i] for i in range(len(review_meta_list))}\n",
    "        \n",
    "review_header_list = ['review_id', 'course', 'date', 'quality', 'difficulty', 'body',\n",
    "                      'thumb_up', 'thumb_down'] + review_meta_list + tag_list "
   ]
  },
  {
   "cell_type": "code",
   "execution_count": 44,
   "metadata": {},
   "outputs": [],
   "source": [
    "def find_rmp_professor_url(html_doc):\n",
    "    \"\"\"Finds the professor's URL on the search page and returns it.\n",
    "    \n",
    "    Args:\n",
    "        html_doc: A string containing an HTML document.\n",
    "        \n",
    "    Returns:\n",
    "        The full URL for the professor's page (if found).\n",
    "    \n",
    "    \"\"\"\n",
    "    \n",
    "    soup = BeautifulSoup(html_doc, 'html.parser')\n",
    "    partial_url = soup.find('li', class_='listing PROFESSOR').find('a', href=True)\n",
    "    \n",
    "    if partial_url:\n",
    "        main_url = \"https://www.ratemyprofessors.com\"\n",
    "        return main_url + partial_url['href']"
   ]
  },
  {
   "cell_type": "code",
   "execution_count": 45,
   "metadata": {},
   "outputs": [],
   "source": [
    "def query_rmp_for_professor_url(professor_name, headers, params):\n",
    "    \"\"\"Queries RateMyProfessor for the professor, given the parameters and headers.\n",
    "    \n",
    "    Args:\n",
    "        professor_name: The <first name> <last name> of the professor.\n",
    "        headers: Dictionary of headers for the get request.\n",
    "        params: Dictionary of parameters for the get request.\n",
    "        \n",
    "    Returns:\n",
    "        The full URL for the professor's page after searching for it (if found).\n",
    "        \n",
    "    \"\"\"\n",
    "    \n",
    "    params['query'] = professor_name\n",
    "    \n",
    "    response = requests.get(ratemyprofessor_url, headers=headers, params=params)\n",
    "    \n",
    "    if response.status_code == 200:\n",
    "        return find_rmp_professor_url(response.text)"
   ]
  },
  {
   "cell_type": "code",
   "execution_count": 75,
   "metadata": {},
   "outputs": [],
   "source": [
    "def get_rmp_prof_stats(page_text):\n",
    "    \"\"\"Parses the professor's stats from their page and returns them. Namely their overall rating, \n",
    "    how many would take again, overall difficulty and how many ratings they have on RateMyProfessor.\n",
    "    \n",
    "    Args:\n",
    "        page_text: An HTML document of the professor's page.\n",
    "        \n",
    "    Returns:\n",
    "        A dictionary containing their rating, take again percentage, difficulty rating, and rating count.\n",
    "    \"\"\"\n",
    "    \n",
    "    soup = BeautifulSoup(page_text, 'html.parser')\n",
    "    \n",
    "    rating_score = float(soup.select('div[class*=\"RatingValue__Numerator\"]')[0].text)\n",
    "    \n",
    "    feedback = soup.select('div[class*=\"TeacherFeedback__StyledTeacherFeedback\"]')[0].select('div[class*=\"FeedbackItem__FeedbackNumber\"]')\n",
    "    \n",
    "    take_again = float(feedback[0].text[:-1]) / 100\n",
    "    difficulty = float(feedback[1].text)\n",
    "    \n",
    "    rating_count = soup.select('div[class*=\"RatingValue__NumRatings\"]')[0].select('a')[0].text\n",
    "    rating_count = ''.join([x for x in rating_count if x.isdigit()])\n",
    "    rating_count = int(rating_count)\n",
    "    \n",
    "    return {'rating': rating_score, 'take_again': take_again, 'difficulty': difficulty, 'rating_count': rating_count}"
   ]
  },
  {
   "cell_type": "code",
   "execution_count": 139,
   "metadata": {},
   "outputs": [],
   "source": [
    "def tags_to_dict(provided_tags):\n",
    "    \"\"\"Turns the list of text tags (e.g. skip class? you won't pass) into a dictionary\n",
    "    of approriately named tags that work for database columns and if they were present.\n",
    "    \n",
    "    Args:\n",
    "        provided_tags: A list of space separated tags scraped from the RMP page.\n",
    "        \n",
    "    Returns:\n",
    "        A dictionary of {tag: 1 or 0} on whether a tag was used to describe the professor.\n",
    "    \"\"\"\n",
    "    \n",
    "    tag_dict = {val: 0 for val in text_tag_dict.values()}\n",
    "    \n",
    "    for tag in provided_tags:\n",
    "        if tag.lower() in text_tag_dict.keys():\n",
    "            tag_dict[text_tag_dict[tag.lower()]] = 1\n",
    "            \n",
    "    return tag_dict\n",
    "\n",
    "def meta_to_dict(provided_meta):\n",
    "    \"\"\"Turns the dictionary of meta tags (e.g. Would Take Again: No) into a dictionary\n",
    "    of appropriately named tags that work for database columns and values if they were present.\n",
    "    \n",
    "    Args:\n",
    "        provided_meta: A dictionary of meta information from a review.\n",
    "        \n",
    "    Returns:\n",
    "        A dictionary of {meta: 1 or 0} on whether a meta was used on the review.\n",
    "    \"\"\"\n",
    "    \n",
    "    meta_dict = {val: 0 for val in review_meta_list}\n",
    "    \n",
    "    for meta, response in provided_meta.items():\n",
    "        if meta.lower() in review_meta_dict.keys():\n",
    "            \n",
    "            if response.lower() == \"yes\" or response.lower() == \"mandatory\":\n",
    "                value = 1\n",
    "                \n",
    "            if meta.lower() == \"grade\":\n",
    "                value = response\n",
    "            \n",
    "            meta_dict[review_meta_dict[meta.lower()]] = value\n",
    "            \n",
    "    return meta_dict"
   ]
  },
  {
   "cell_type": "code",
   "execution_count": 48,
   "metadata": {},
   "outputs": [],
   "source": [
    "def get_rmp_prof_top_tags(page_text):\n",
    "    \"\"\"Parses and returns the professor's top tags.\n",
    "    \n",
    "    Args:\n",
    "        page_text: An HTML document of the professor's page.\n",
    "        \n",
    "    Returns:\n",
    "        A list of tags describing the professor.\n",
    "    \"\"\"\n",
    "    \n",
    "    soup = BeautifulSoup(page_text, 'html.parser')\n",
    "    \n",
    "    tags = []\n",
    "    unparsed_tags = soup.select('div[class*=\"TeacherTags__TagsContainer\"]')[0].select('span')\n",
    "    \n",
    "    for tag in unparsed_tags:\n",
    "        tags.append(tag.text)\n",
    "        \n",
    "    return tags_to_dict(tags)"
   ]
  },
  {
   "cell_type": "markdown",
   "metadata": {},
   "source": [
    "#### Need Selenium because Javascript hides more reviews"
   ]
  },
  {
   "cell_type": "code",
   "execution_count": 49,
   "metadata": {},
   "outputs": [],
   "source": [
    "from selenium import webdriver\n",
    "from selenium.webdriver.common.by import By\n",
    "import time\n",
    "\n",
    "driver = webdriver.Firefox(executable_path='./bin/geckodriver.exe')"
   ]
  },
  {
   "cell_type": "code",
   "execution_count": 119,
   "metadata": {},
   "outputs": [],
   "source": [
    "def load_all_rmp_reviews(page_url):\n",
    "    \"\"\"Loads all the reviews for a given porfessor and returns the text of all of them.\n",
    "    \n",
    "    Args:\n",
    "        page_url: The URL for the professor's page.\n",
    "        \n",
    "    Returns:\n",
    "        A string containing the HTML for all the reviews.\n",
    "    \"\"\"\n",
    "    \n",
    "    driver.get(page_url)\n",
    "    \n",
    "    # RateMyProfessors has a cookies pop up that overlays the website, it needs to be closed first\n",
    "    time.sleep(0.5)\n",
    "    close_cookies = driver.find_elements(By.XPATH, '//button[text()=\"Close\"]')\n",
    "    \n",
    "    if close_cookies:\n",
    "        close_cookies[0].click()\n",
    "        \n",
    "    load_more = driver.find_elements(By.XPATH, '//button[text()=\"Load More Ratings\"]')\n",
    "    \n",
    "    # RateMyProfessors paginates the reviews via Javascript, so we must continually load more while the button is present\n",
    "    while load_more:\n",
    "        load_more[0].click()\n",
    "        time.sleep(1)\n",
    "        load_more = driver.find_elements(By.XPATH, '//button[text()=\"Load More Ratings\"]')\n",
    "        \n",
    "    return driver.find_element_by_id('ratingsList').get_attribute('outerHTML')"
   ]
  },
  {
   "cell_type": "code",
   "execution_count": 158,
   "metadata": {},
   "outputs": [],
   "source": [
    "def parse_rating_header(soup):\n",
    "    \"\"\"Parses and returns the rating header for a single review.\n",
    "    \n",
    "    Args:\n",
    "        soup: An initialized BeautifulSoup object for the professor's page.\n",
    "        \n",
    "    Returns:\n",
    "        A dictionary containing the course and date for the review.\n",
    "    \"\"\"\n",
    "    \n",
    "    rating_header = soup.select('div[class*=\"Rating__RatingInfo\"]')\n",
    "    \n",
    "    if len(rating_header) != 0:\n",
    "        course = rating_header[0].select('div[class*=\"RatingHeader__StyledClass\"]')[0].text.strip()\n",
    "        date = rating_header[0].select('div[class*=\"TimeStamp__StyledTimeStamp\"]')[0].text.strip()\n",
    "    else:\n",
    "        print(soup)\n",
    "    \n",
    "    return {'course': course, 'date': date}\n",
    "\n",
    "def parse_meta_data(soup):\n",
    "    \"\"\"Parses and returns the meta data for a single review.\n",
    "    \n",
    "    Args:\n",
    "        soup: An initialized BeautifulSoup object for the professor's page.\n",
    "        \n",
    "    Returns:\n",
    "        A dictionary containing the meta data (e.g. Would Take Again) for the review.\n",
    "    \"\"\"\n",
    "    \n",
    "    course_meta = soup.select('div[class*=\"CourseMeta__StyledCourseMeta\"]')[0]\n",
    "    review_meta_data = {}\n",
    "\n",
    "    for meta_div in course_meta.select('div'):\n",
    "        meta_data = meta_div.text.split(':')\n",
    "        meta_name = meta_data[0].strip()\n",
    "        meta_value = meta_data[1].strip()\n",
    "\n",
    "        review_meta_data[meta_name] = meta_value\n",
    "\n",
    "    return meta_to_dict(review_meta_data)\n",
    "\n",
    "def parse_rating_data(soup):\n",
    "    \"\"\"Parses and returns the rating data for a single review.\n",
    "    \n",
    "    Args:\n",
    "        soup: An initialized BeautifulSoup object for the professor's page.\n",
    "        \n",
    "    Returns:\n",
    "        A dictionary containing the rating data for the quality and difficulty for the review.\n",
    "    \"\"\"\n",
    "    \n",
    "    rating_values_text = soup.select('div[class*=\"RatingValues__StyledRatingValues\"]')[0].select('div[class*=\"RatingValues__RatingValue\"]')\n",
    "    quality = rating_values_text[0].text\n",
    "    difficulty = rating_values_text[1].text\n",
    "\n",
    "    rating_data = {'quality': quality, 'difficulty': difficulty}\n",
    "    \n",
    "    return rating_data\n",
    "\n",
    "def parse_review_tags(soup):\n",
    "    \"\"\"Parses and returns the tags for a single review.\n",
    "    \n",
    "    Args:\n",
    "        soup: An initialized BeautifulSoup object for the professor's page.\n",
    "        \n",
    "    Returns:\n",
    "        A list containing the tags for the review.\n",
    "    \"\"\"\n",
    "    \n",
    "    tag_container = soup.select('div[class*=\"RatingTags__StyledTags\"]')\n",
    "    \n",
    "    if tag_container: # Since not all reviews add tags\n",
    "        unparsed_tags = tag_container[0].select('span')\n",
    "\n",
    "        tags = []\n",
    "        for tag in unparsed_tags:\n",
    "            tags.append(tag.text)\n",
    "\n",
    "        return tags_to_dict(tags)\n",
    "    \n",
    "def parse_thumb_scoring(soup):\n",
    "    \"\"\"Parses and returns the thumb scoring data for a single review.\n",
    "    \n",
    "    Args:\n",
    "        soup: An initialized BeautifulSoup object for the professor's page.\n",
    "        \n",
    "    Returns:\n",
    "        A dictionary containing the thumb scoring data for the review.\n",
    "    \"\"\"\n",
    "    \n",
    "    thumb_container = soup.select('div[class*=\"RatingFooter__StyledRatingFooter\"]')[0].select('div[class*=\"RatingFooter__HelpTotal\"]')\n",
    "\n",
    "    thumb_up = thumb_container[0].text\n",
    "    thumb_down = thumb_container[1].text\n",
    "    thumb_data = {'thumb-up': thumb_up, 'thumb-down': thumb_down}\n",
    "\n",
    "    return thumb_data\n",
    "\n",
    "def parse_review_text(soup):\n",
    "    \"\"\"Parses and returns the review body text for a single review.\n",
    "    \n",
    "    Args:\n",
    "        soup: An initialized BeautifulSoup object for the professor's page.\n",
    "        \n",
    "    Returns:\n",
    "        A string containing the review text for the review.\n",
    "    \"\"\"\n",
    "    \n",
    "    review_text = soup.select('div[class*=\"Comments__StyledComments\"]')[0].text\n",
    "    \n",
    "    return {'body': review_text}\n",
    "    \n",
    "def parse_single_rmp_review(review_item, courses):\n",
    "    \"\"\"Parses and returns all data for a single review.\n",
    "    Namely it returns: Meta data, rating data, tags, thumb_scoring, and review text.\n",
    "    \n",
    "    Args:\n",
    "        review_item: A single review list item containing all the appropraite HTML.\n",
    "        \n",
    "    Returns:\n",
    "        A dictionary containing the meta data, rating data, tags, thumb_scoring, and review text\n",
    "        for a single review.\n",
    "    \"\"\"\n",
    "    \n",
    "    soup = BeautifulSoup(review_item, 'html.parser')\n",
    "    \n",
    "    course_and_date = parse_rating_header(soup)\n",
    "    \n",
    "    # TODO: Loses course reviews like 'CMSC131CMSC132' where students combined multiple courses they took\n",
    "    if course_and_date['course'] in courses:\n",
    "        \n",
    "        # Meta data\n",
    "        meta_data = parse_meta_data(soup)\n",
    "        \n",
    "        # Rating data\n",
    "        rating_data = parse_rating_data(soup)\n",
    "        \n",
    "        # Tags \n",
    "        tags = parse_review_tags(soup)\n",
    "        \n",
    "        # Thumb Scoring\n",
    "        thumb_scoring = parse_thumb_scoring(soup)\n",
    "        \n",
    "        # Review body\n",
    "        review_text = parse_review_text(soup)\n",
    "        \n",
    "        return {'meta_data': meta_data, 'rating_data': rating_data, 'tags': tags, 'thumb_scoring': thumb_scoring, 'review_text': review_text}"
   ]
  },
  {
   "cell_type": "code",
   "execution_count": null,
   "metadata": {},
   "outputs": [],
   "source": []
  },
  {
   "cell_type": "code",
   "execution_count": 162,
   "metadata": {},
   "outputs": [],
   "source": [
    "# TODO: Parse/scrape an entire professor's review listing and insert into the database(s)\n",
    "def get_rmp_prof_reviews(rmp_prof_url, prof_name, prof_courses):\n",
    "    reviews_html = load_all_rmp_reviews(rmp_prof_url)\n",
    "    soup = BeautifulSoup(reviews_html, 'html.parser')\n",
    "    \n",
    "    review_id_head = prof_name.split(' ')[1] + '-'\n",
    "    counter = 1\n",
    "    \n",
    "    review_df = pd.DataFrame(columns=review_header_list)\n",
    "    \n",
    "    for review in soup.find_all('li'):\n",
    "        \n",
    "        if len(review.select('div[class*=\"Rating__StyledRating\"]')) != 0: # Avoid advertisement list items\n",
    "            data = parse_single_rmp_review(str(review), prof_courses)\n",
    "\n",
    "            if data: # Since the review could be of an undesired course\n",
    "                flattened_data = {}\n",
    "\n",
    "                for data_type, data_dict in data.items():\n",
    "                    if not data_dict:\n",
    "                        print(data_type)\n",
    "                    for key, val in data_dict.items():\n",
    "                        flattened_data[key] = val\n",
    "\n",
    "                print(flattened_data)\n",
    "                print()\n",
    "    \n",
    "    return None"
   ]
  },
  {
   "cell_type": "code",
   "execution_count": 117,
   "metadata": {},
   "outputs": [],
   "source": [
    "# TODO: Parse/scrape an entire professor's RateMyProfessors page\n",
    "def parse_rmp_page(rmp_prof_url, headers):\n",
    "    rmp_prof_page = requests.get(rmp_prof_url, headers=headers)\n",
    "    \n",
    "    if rmp_prof_page.status_code == 200:\n",
    "        soup = BeautifulSoup(rmp_prof_page.text, 'html.parser')\n",
    "        \n",
    "        stats_container = soup.select('div[class*=\"TeacherInfo__StyledTeacher\"]')[0]\n",
    "        prof_stats = get_rmp_prof_stats(stats_container.text)\n",
    "        prof_tags = get_rmp_prof_top_tags(stats_container.text)\n",
    "        \n",
    "        all_reviews = get_rmp_prof_reviews(rmp_prof_url)\n",
    "        \n",
    "        \n",
    "    return None"
   ]
  },
  {
   "cell_type": "markdown",
   "metadata": {},
   "source": [
    "### Computer Science Professors"
   ]
  },
  {
   "cell_type": "code",
   "execution_count": 53,
   "metadata": {},
   "outputs": [
    {
     "name": "stdout",
     "output_type": "stream",
     "text": [
      "https://www.ratemyprofessors.com/ShowRatings.jsp?tid=313062\n"
     ]
    }
   ],
   "source": [
    "fawzi_url = query_rmp_for_professor_url('Fawzi Emad', headers, params)\n",
    "print(fawzi_url)\n",
    "\n",
    "response = requests.get(fawzi_url, headers=headers)"
   ]
  },
  {
   "cell_type": "markdown",
   "metadata": {},
   "source": [
    "Split for testing purposes, don't want to query the page multiple times"
   ]
  },
  {
   "cell_type": "code",
   "execution_count": 93,
   "metadata": {},
   "outputs": [
    {
     "name": "stdout",
     "output_type": "stream",
     "text": [
      "{'rating': 4.4, 'take_again': 0.83, 'difficulty': 3.1, 'rating_count': 114}\n",
      "\n",
      "{'gives_good_feedback': 0, 'respected': 1, 'lots_of_homework': 0, 'accessible_outside_class': 0, 'get_ready_to_read': 0, 'participation_matters': 0, 'inspirational': 0, 'graded_by_few_things': 0, 'test_heavy': 0, 'group_projects': 0, 'clear_grading_criteria': 0, 'hilarious': 1, 'beware_of_pop_quizes': 0, 'amazing_lectures': 1, 'lecture_heavy': 0, 'caring': 0, 'extra_credit': 0, 'so_many_papers': 0, 'tough_grader': 0, 'skip_class_wont_pass': 1}\n"
     ]
    }
   ],
   "source": [
    "# TODO: Should have a function that gets the appropriate sections of the response.text then sends to respective functions\n",
    "if response.status_code == 200:\n",
    "    fawzi_stats = get_rmp_prof_stats(response.text)\n",
    "    fawzi_tags = get_rmp_prof_top_tags(response.text)\n",
    "    print(fawzi_stats)\n",
    "    print()\n",
    "    print(fawzi_tags)\n",
    "else:\n",
    "    print('error')"
   ]
  },
  {
   "cell_type": "code",
   "execution_count": 163,
   "metadata": {},
   "outputs": [
    {
     "name": "stdout",
     "output_type": "stream",
     "text": [
      "{'would_take_again': 1, 'grade': 0, 'textbook': 1, 'online_class': 0, 'for_credit': 1, 'attendance': 1, 'quality': '5.0', 'difficulty': '5.0', 'gives_good_feedback': 0, 'respected': 0, 'lots_of_homework': 0, 'accessible_outside_class': 1, 'get_ready_to_read': 1, 'participation_matters': 0, 'inspirational': 0, 'graded_by_few_things': 0, 'test_heavy': 0, 'group_projects': 0, 'clear_grading_criteria': 0, 'hilarious': 0, 'beware_of_pop_quizes': 0, 'amazing_lectures': 0, 'lecture_heavy': 0, 'caring': 1, 'extra_credit': 0, 'so_many_papers': 0, 'tough_grader': 0, 'skip_class_wont_pass': 0, 'thumb-up': ' 0', 'thumb-down': ' 0', 'body': 'Fantastic professor. Was not the best for first time coders. CMSC131 was tough. Loved Eastman, met with him constantly and he was always willing to help.'}\n",
      "\n",
      "{'would_take_again': 1, 'grade': 'B', 'textbook': 'B', 'online_class': 0, 'for_credit': 1, 'attendance': 1, 'quality': '4.0', 'difficulty': '4.0', 'gives_good_feedback': 1, 'respected': 0, 'lots_of_homework': 0, 'accessible_outside_class': 1, 'get_ready_to_read': 0, 'participation_matters': 0, 'inspirational': 0, 'graded_by_few_things': 0, 'test_heavy': 0, 'group_projects': 0, 'clear_grading_criteria': 0, 'hilarious': 0, 'beware_of_pop_quizes': 0, 'amazing_lectures': 0, 'lecture_heavy': 0, 'caring': 1, 'extra_credit': 0, 'so_many_papers': 0, 'tough_grader': 0, 'skip_class_wont_pass': 0, 'thumb-up': ' 0', 'thumb-down': ' 0', 'body': 'Roger Eastman is a great Professor. He helps us understand the material, and if he sees, or realize the material was not taught or cover well enough, he tries going over it again, differently. He does live coding on certain days, so we can see how to use the materials we learn. He does really good exam reviews in lecture before the exams.'}\n",
      "\n",
      "{'would_take_again': 1, 'grade': 0, 'textbook': 1, 'online_class': 0, 'for_credit': 1, 'attendance': 0, 'quality': '5.0', 'difficulty': '4.0', 'gives_good_feedback': 0, 'respected': 1, 'lots_of_homework': 0, 'accessible_outside_class': 1, 'get_ready_to_read': 0, 'participation_matters': 0, 'inspirational': 0, 'graded_by_few_things': 0, 'test_heavy': 0, 'group_projects': 0, 'clear_grading_criteria': 0, 'hilarious': 0, 'beware_of_pop_quizes': 0, 'amazing_lectures': 0, 'lecture_heavy': 0, 'caring': 1, 'extra_credit': 0, 'so_many_papers': 0, 'tough_grader': 0, 'skip_class_wont_pass': 0, 'thumb-up': ' 1', 'thumb-down': ' 0', 'body': \"His lectures aren't necessarily mandatory, but he does a good job at explaining the materials in a relatable way, even if you have had no prior programming experience. He is easily accessible outside of class through office hours and emails. He wants all of his students to pass and is willing to take all sorts of questions.\"}\n",
      "\n",
      "{'would_take_again': 1, 'grade': 'B+', 'textbook': 'B+', 'online_class': 0, 'for_credit': 1, 'attendance': 1, 'quality': '5.0', 'difficulty': '4.0', 'gives_good_feedback': 0, 'respected': 1, 'lots_of_homework': 1, 'accessible_outside_class': 0, 'get_ready_to_read': 0, 'participation_matters': 0, 'inspirational': 0, 'graded_by_few_things': 0, 'test_heavy': 0, 'group_projects': 0, 'clear_grading_criteria': 0, 'hilarious': 0, 'beware_of_pop_quizes': 0, 'amazing_lectures': 0, 'lecture_heavy': 0, 'caring': 0, 'extra_credit': 0, 'so_many_papers': 0, 'tough_grader': 0, 'skip_class_wont_pass': 1, 'thumb-up': ' 0', 'thumb-down': ' 0', 'body': \"Dr. Eastman knows his stuff. The course is difficult. I had one C programming course previously and I still found this difficult after the second midterm. Class starts of easy and picks up in difficulty rapidly and does not ease up. Be ready for long projects. No homework. Textbook isn't necessary but recommended. Lectures recorded but still go.\"}\n",
      "\n",
      "tags\n"
     ]
    },
    {
     "ename": "AttributeError",
     "evalue": "'NoneType' object has no attribute 'items'",
     "output_type": "error",
     "traceback": [
      "\u001b[1;31m---------------------------------------------------------------------------\u001b[0m",
      "\u001b[1;31mAttributeError\u001b[0m                            Traceback (most recent call last)",
      "\u001b[1;32m<ipython-input-163-f0cfedd9d9d8>\u001b[0m in \u001b[0;36m<module>\u001b[1;34m\u001b[0m\n\u001b[0;32m      1\u001b[0m \u001b[0meastman_url\u001b[0m \u001b[1;33m=\u001b[0m \u001b[0mquery_rmp_for_professor_url\u001b[0m\u001b[1;33m(\u001b[0m\u001b[1;34m'Roger Eastman'\u001b[0m\u001b[1;33m,\u001b[0m \u001b[0mheaders\u001b[0m\u001b[1;33m,\u001b[0m \u001b[0mparams\u001b[0m\u001b[1;33m)\u001b[0m\u001b[1;33m\u001b[0m\u001b[1;33m\u001b[0m\u001b[0m\n\u001b[0;32m      2\u001b[0m \u001b[1;33m\u001b[0m\u001b[0m\n\u001b[1;32m----> 3\u001b[1;33m \u001b[0mget_rmp_prof_reviews\u001b[0m\u001b[1;33m(\u001b[0m\u001b[0meastman_url\u001b[0m\u001b[1;33m,\u001b[0m \u001b[1;34m'Roger Eastman'\u001b[0m\u001b[1;33m,\u001b[0m \u001b[1;33m[\u001b[0m\u001b[1;34m'CMSC131'\u001b[0m\u001b[1;33m,\u001b[0m \u001b[1;34m'CMSC250'\u001b[0m\u001b[1;33m]\u001b[0m\u001b[1;33m)\u001b[0m\u001b[1;33m\u001b[0m\u001b[1;33m\u001b[0m\u001b[0m\n\u001b[0m",
      "\u001b[1;32m<ipython-input-162-e052532f0857>\u001b[0m in \u001b[0;36mget_rmp_prof_reviews\u001b[1;34m(rmp_prof_url, prof_name, prof_courses)\u001b[0m\n\u001b[0;32m     20\u001b[0m                     \u001b[1;32mif\u001b[0m \u001b[1;32mnot\u001b[0m \u001b[0mdata_dict\u001b[0m\u001b[1;33m:\u001b[0m\u001b[1;33m\u001b[0m\u001b[1;33m\u001b[0m\u001b[0m\n\u001b[0;32m     21\u001b[0m                         \u001b[0mprint\u001b[0m\u001b[1;33m(\u001b[0m\u001b[0mdata_type\u001b[0m\u001b[1;33m)\u001b[0m\u001b[1;33m\u001b[0m\u001b[1;33m\u001b[0m\u001b[0m\n\u001b[1;32m---> 22\u001b[1;33m                     \u001b[1;32mfor\u001b[0m \u001b[0mkey\u001b[0m\u001b[1;33m,\u001b[0m \u001b[0mval\u001b[0m \u001b[1;32min\u001b[0m \u001b[0mdata_dict\u001b[0m\u001b[1;33m.\u001b[0m\u001b[0mitems\u001b[0m\u001b[1;33m(\u001b[0m\u001b[1;33m)\u001b[0m\u001b[1;33m:\u001b[0m\u001b[1;33m\u001b[0m\u001b[1;33m\u001b[0m\u001b[0m\n\u001b[0m\u001b[0;32m     23\u001b[0m                         \u001b[0mflattened_data\u001b[0m\u001b[1;33m[\u001b[0m\u001b[0mkey\u001b[0m\u001b[1;33m]\u001b[0m \u001b[1;33m=\u001b[0m \u001b[0mval\u001b[0m\u001b[1;33m\u001b[0m\u001b[1;33m\u001b[0m\u001b[0m\n\u001b[0;32m     24\u001b[0m \u001b[1;33m\u001b[0m\u001b[0m\n",
      "\u001b[1;31mAttributeError\u001b[0m: 'NoneType' object has no attribute 'items'"
     ]
    }
   ],
   "source": [
    "eastman_url = query_rmp_for_professor_url('Roger Eastman', headers, params)\n",
    "\n",
    "get_rmp_prof_reviews(eastman_url, 'Roger Eastman', ['CMSC131', 'CMSC250'])"
   ]
  },
  {
   "cell_type": "code",
   "execution_count": 58,
   "metadata": {},
   "outputs": [
    {
     "name": "stdout",
     "output_type": "stream",
     "text": [
      "{'meta_data': {'Would Take Again': 'Yes', 'Grade': 'A', 'Textbook': 'No', 'Online Class': 'Yes'}, 'rating_data': {'quality': '5.0', 'difficulty': '1.0'}, 'tags': {'gives_good_feedback': 0, 'respected': 0, 'lots_of_homework': 0, 'accessible_outside_class': 0, 'get_ready_to_read': 0, 'particpation_matters': 0, 'inspirational': 0, 'graded_by_few_things': 0, 'test_heavy': 0, 'group_projects': 0, 'clear_grading_criteria': 0, 'hilarious': 1, 'beware_of_pop_quizes': 0, 'amazing_lectures': 0, 'lecture_heavy': 1, 'caring': 0, 'extra_credit': 0, 'so_many_papers': 0, 'tough_grader': 0, 'skip_class_wont_pass': 0}, 'thumb_scoring': {'thumb-up': ' 0', 'thumb-down': ' 0'}, 'review_text': 'Fawzi is a legend'}\n"
     ]
    }
   ],
   "source": [
    "single_review = \"\"\"\n",
    "<div class=\"Rating__RatingBody-sc-1rhvpxz-0 dGrvXb\"><div class=\"RatingHeader__StyledHeader-sc-1dlkqw1-0 uBHCj\"><div class=\"RatingHeader__ClassInfoWrapper-sc-1dlkqw1-1 jxOApy\"><div class=\"RatingHeader__StyledClass-sc-1dlkqw1-2 gxDIt\"><img src=\"/static/media/computer-icon.17c26169.svg\" alt=\"Computer Icon\" data-for=\"GLOBAL_TOOLTIP\" data-tip=\"Online Class\" data-tooltip=\"true\" class=\"OnlineCourseLogo__StyledLogo-qyf3kt-0 gemNec\" currentitem=\"false\"> CMSC131</div><div class=\"EmotionLabel__StyledEmotionLabel-sc-1u525uj-0 cJfJJi\"><span role=\"img\" aria-label=\"Sunglasses\">😎</span>awesome</div></div><div class=\"TimeStamp__StyledTimeStamp-sc-9q2r30-0 bXQmMr RatingHeader__RatingTimeStamp-sc-1dlkqw1-3 BlaCV\">Dec 3rd, 2020</div></div><div class=\"RatingValues__StyledRatingValues-sc-6dc747-0 bJSTHc\"><div class=\"RatingValues__RatingContainer-sc-6dc747-1 DObVa\"><div class=\"RatingValues__RatingLabel-sc-6dc747-2 gLxTSP\">Quality</div><div class=\"RatingValues__RatingValue-sc-6dc747-3 kLWEWI\">5.0</div></div><div class=\"RatingValues__RatingContainer-sc-6dc747-1 DObVa\"><div class=\"RatingValues__RatingLabel-sc-6dc747-2 gLxTSP\">Difficulty</div><div class=\"RatingValues__RatingValue-sc-6dc747-3 jILzuI\">1.0</div></div></div><div class=\"Rating__RatingInfo-sc-1rhvpxz-3 kEVEoU\"><div class=\"RatingHeader__StyledHeader-sc-1dlkqw1-0 fUEMJm\"><div class=\"RatingHeader__ClassInfoWrapper-sc-1dlkqw1-1 jxOApy\"><div class=\"RatingHeader__StyledClass-sc-1dlkqw1-2 gxDIt\"><img src=\"/static/media/computer-icon.17c26169.svg\" alt=\"Computer Icon\" data-for=\"GLOBAL_TOOLTIP\" data-tip=\"Online Class\" data-tooltip=\"true\" class=\"OnlineCourseLogo__StyledLogo-qyf3kt-0 gemNec\" currentitem=\"false\"> CMSC131</div><div class=\"EmotionLabel__StyledEmotionLabel-sc-1u525uj-0 cJfJJi\"><span role=\"img\" aria-label=\"Sunglasses\">😎</span>awesome</div></div><div class=\"TimeStamp__StyledTimeStamp-sc-9q2r30-0 bXQmMr RatingHeader__RatingTimeStamp-sc-1dlkqw1-3 BlaCV\">Dec 3rd, 2020</div></div><div class=\"CourseMeta__StyledCourseMeta-x344ms-0 fPJDHT\"><div class=\"MetaItem__StyledMetaItem-y0ixml-0 LXClX\">Would Take Again: <span>Yes</span></div><div class=\"MetaItem__StyledMetaItem-y0ixml-0 LXClX\">Grade: <span>A</span></div><div class=\"MetaItem__StyledMetaItem-y0ixml-0 LXClX\">Textbook: <span>No</span></div><div class=\"MetaItem__StyledMetaItem-y0ixml-0 LXClX\">Online Class: <span>Yes</span></div></div><div class=\"Comments__StyledComments-dzzyvm-0 gRjWel\">Fawzi is a legend</div><div class=\"RatingTags__StyledTags-sc-1boeqx2-0 eLpnFv\"><span class=\"Tag-bs9vf4-0 hHOVKF\">Hilarious</span><span class=\"Tag-bs9vf4-0 hHOVKF\">Lecture heavy</span></div><div class=\"RatingFooter__StyledRatingFooter-ciwspm-0 dbULCX\"><div class=\"RatingFooter__ButtonWrapper-ciwspm-1 cwcCIQ\"><div class=\"RatingFooter__HelpTotal-ciwspm-2 kAVFzA\"><img src=\"/static/media/thumbs-up-black.eddae738.svg\" class=\"VoteThumb__StyledVoteThumb-p2gtch-0 jCbELu\" data-tooltip=\"true\" data-tip=\"Helpful\" data-for=\"GLOBAL_TOOLTIP\" alt=\"Thumbs up\"> 0</div><div class=\"RatingFooter__HelpTotal-ciwspm-2 kAVFzA\"><img src=\"/static/media/thumbs-down-black.bd601b36.svg\" class=\"VoteThumb__StyledVoteThumb-p2gtch-0 jCbELu\" data-tooltip=\"true\" data-tip=\"Not helpful\" data-for=\"GLOBAL_TOOLTIP\" alt=\"Thumbs down\"> 0</div></div><div class=\"RatingFooter__ButtonWrapper-ciwspm-1 cwcCIQ\"><a href=\"https://www.ratemyprofessors.com//flagTeacherRating.jsp?rid=33939742\" class=\"ReportFlag__StyledReportFlag-sc-1c42epr-0 hjlYuE\" data-tooltip=\"true\" data-tip=\"Report this rating\" data-for=\"GLOBAL_TOOLTIP\" data-testid=\"reportflag_test_id\" aria-disabled=\"false\" currentitem=\"false\"><div class=\"ReportFlag__FlagWrapper-sc-1c42epr-1 kVglhF\"><svg xmlns=\"http://www.w3.org/2000/svg\" width=\"24\" height=\"24\" viewBox=\"0 0 24 24\"><defs><path id=\"prefix__a\" d=\"M3.93 10c1.417 0 2.383.276 4.371 1.072 1.762.704 2.546.928 3.629.928 1.189 0 2.094-.165 2.754-.428.095-.039.177-.075.246-.108v-9.86c-.82.253-1.814.396-3 .396-1.417 0-2.383-.276-4.371-1.072C5.797.224 5.013 0 3.93 0 2.741 0 1.836.165 1.176.428A4.094 4.094 0 00.93.536v9.86c.82-.253 1.814-.396 3-.396z\"></path></defs><g fill=\"none\" fill-rule=\"evenodd\"><path fill=\"#151515\" fill-rule=\"nonzero\" d=\"M3 3a1 1 0 01.293-.707c.22-.22.614-.483 1.21-.721C5.407 1.21 6.564 1 8 1c1.417 0 2.383.276 4.371 1.072C14.133 2.776 14.917 3 16 3c1.189 0 2.094-.165 2.754-.428.341-.137.508-.249.539-.28C19.923 1.663 21 2.11 21 3v12a1 1 0 01-.293.707c-.22.22-.614.483-1.21.721-.903.362-2.06.572-3.497.572-1.417 0-2.383-.276-4.371-1.072C9.867 15.224 9.083 15 8 15c-1.189 0-2.094.165-2.754.428a4.09 4.09 0 00-.247.108L5 22a1 1 0 01-2 0V3zm5 0c-1.189 0-2.094.165-2.754.428A4.094 4.094 0 005 3.536v9.86C5.82 13.143 6.814 13 8 13c1.417 0 2.383.276 4.371 1.072 1.762.704 2.546.928 3.629.928 1.189 0 2.094-.165 2.754-.428.095-.039.177-.075.246-.108v-9.86c-.82.253-1.814.396-3 .396-1.417 0-2.383-.276-4.371-1.072C9.867 3.224 9.083 3 8 3z\"></path><g transform=\"translate(4.07 3)\"><mask id=\"prefix__b\" fill=\"#fff\"><use xlink:href=\"#prefix__a\"></use></mask><use fill=\"none\" fill-rule=\"nonzero\" xlink:href=\"#prefix__a\"></use><g fill=\"none\" mask=\"url(#prefix__b)\"><path d=\"M0 0H64V64H0z\" transform=\"translate(-25 -27)\"></path></g></g></g></svg></div></a></div></div></div></div>\n",
    "\"\"\"\n",
    "\n",
    "print(parse_single_rmp_review(single_review, [\"CMSC131\"]))"
   ]
  },
  {
   "cell_type": "markdown",
   "metadata": {},
   "source": [
    "### Business Management Professors"
   ]
  },
  {
   "cell_type": "markdown",
   "metadata": {},
   "source": [
    "## From Planetterp"
   ]
  },
  {
   "cell_type": "markdown",
   "metadata": {},
   "source": [
    "### Computer Science Professors"
   ]
  },
  {
   "cell_type": "markdown",
   "metadata": {},
   "source": [
    "### Business Management Professors"
   ]
  },
  {
   "cell_type": "code",
   "execution_count": null,
   "metadata": {},
   "outputs": [],
   "source": []
  },
  {
   "cell_type": "markdown",
   "metadata": {},
   "source": [
    "(Debug) Need to close these for now"
   ]
  },
  {
   "cell_type": "code",
   "execution_count": 115,
   "metadata": {},
   "outputs": [],
   "source": [
    "cmsc_rmp_db.close()\n",
    "bmgt_rmp_db.close()"
   ]
  },
  {
   "cell_type": "code",
   "execution_count": null,
   "metadata": {},
   "outputs": [],
   "source": []
  }
 ],
 "metadata": {
  "kernelspec": {
   "display_name": "Python 3",
   "language": "python",
   "name": "python3"
  },
  "language_info": {
   "codemirror_mode": {
    "name": "ipython",
    "version": 3
   },
   "file_extension": ".py",
   "mimetype": "text/x-python",
   "name": "python",
   "nbconvert_exporter": "python",
   "pygments_lexer": "ipython3",
   "version": "3.8.5"
  }
 },
 "nbformat": 4,
 "nbformat_minor": 4
}
