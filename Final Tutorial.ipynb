{
 "cells": [
  {
   "cell_type": "markdown",
   "metadata": {},
   "source": [
    "# CMSC 320 - Final Tutorial - UMD Subreddit"
   ]
  },
  {
   "cell_type": "code",
   "execution_count": 1,
   "metadata": {},
   "outputs": [],
   "source": [
    "import requests"
   ]
  },
  {
   "cell_type": "code",
   "execution_count": 2,
   "metadata": {},
   "outputs": [],
   "source": [
    "def make_get_request(URL, headers=None, given_params=None):\n",
    "    \"\"\"Sends a GET request to the given URL.\n",
    "    \n",
    "    Parameters\n",
    "    ----------\n",
    "    URL : str\n",
    "        The url to send a GET request\n",
    "    given_params : dictionary, optional\n",
    "        A dictionary of any additional parameters (default is None)\n",
    "        \n",
    "        \n",
    "    Returns\n",
    "    -------\n",
    "    dictionary\n",
    "        A dictionary containing the JSON response\n",
    "    \"\"\"\n",
    "    \n",
    "    SUCCESS = 200\n",
    "    response = requests.get(URL, headers=headers, params=given_params)\n",
    "    \n",
    "    if (response.status_code == SUCCESS):\n",
    "        return response\n",
    "    else:\n",
    "        return {};"
   ]
  },
  {
   "cell_type": "markdown",
   "metadata": {},
   "source": [
    "## Scraping Professor Names"
   ]
  },
  {
   "cell_type": "markdown",
   "metadata": {},
   "source": [
    "### Attempted to use umd.io, but it appears to be rather glitchy"
   ]
  },
  {
   "cell_type": "code",
   "execution_count": 3,
   "metadata": {},
   "outputs": [
    {
     "name": "stdout",
     "output_type": "stream",
     "text": [
      "\n"
     ]
    }
   ],
   "source": [
    "\"\"\"\n",
    "umd_professor_url = \"https://api.umd.io/v1/professors\";\n",
    "page = 1\n",
    "professorNames = set() \n",
    "params = {'departments': 'CMSC', 'page': page}\n",
    "\n",
    "json = make_get_request(umd_professor_url, params)\n",
    "professorNames.update([professor['name'] for professor in json])\n",
    "\n",
    "while json is not None:\n",
    "    page = page + 1\n",
    "    params['page'] = page\n",
    "    \n",
    "    json = make_get_request(umd_professor_url, params)\n",
    "    if json:\n",
    "        professorNames.update([professor['name'] for professor in json])\n",
    "        \n",
    "    print(professorNames)\n",
    "        \n",
    "# print(professorNames)\n",
    "\"\"\"\n",
    "print()"
   ]
  },
  {
   "cell_type": "markdown",
   "metadata": {},
   "source": [
    "### Doing it myself"
   ]
  },
  {
   "cell_type": "code",
   "execution_count": 4,
   "metadata": {},
   "outputs": [],
   "source": [
    "from bs4 import BeautifulSoup\n",
    "\n",
    "# Headers for the request\n",
    "headers = {\n",
    "    \"User-Agent\": \"Mozilla/5.0 (Windows NT 10.0; Win64; x64; rv:82.0) Gecko/20100101 Firefox/82.0\",\n",
    "    \"Access-Control-Allow-Origin\": \"*\",\n",
    "    \"Access-Control-Allow-Headers\": \"Content-Type\",\n",
    "    \"Access-Control-Allow-Methods\": \"GET\"\n",
    "}\n",
    "\n",
    "faculty_url = \"https://academiccatalog.umd.edu/undergraduate/administrators-officials-faculty/\"\n",
    "response = make_get_request(faculty_url, headers=headers)\n",
    "\n",
    "soup = BeautifulSoup(response.content, 'html.parser')"
   ]
  },
  {
   "cell_type": "code",
   "execution_count": 5,
   "metadata": {},
   "outputs": [
    {
     "name": "stdout",
     "output_type": "stream",
     "text": [
      "{'Losert, Wolfgang ', 'Delwiche, Charles Francis ', \"O'Brien, Tammatha \", 'Abadi, Daniel J ', 'Nemes, Peter ', 'Diener, Theodor O. ', 'Hasan, Nur A ', 'Hamby, Kelly A ', 'Song, Wenxia ', 'Benesch, William M. ', 'Freed, Eric O. ', 'Salawitch, Ross J. ', 'Liang, Xin-Zhong ', 'Cook, Thomas M. ', 'Falk, David S. ', 'Raupp, Michael J. ', 'Miller, Michael Coleman ', 'Wang, Chunsheng ', 'von Petersdorff, Tobias ', 'Golbeck, Jennifer Ann ', 'Opoku-Edusei, Justicia ', 'Pierce, Brian ', 'Sisler, Hugh D. ', 'Neri, Umberto ', 'Lett, Paul David ', 'JaJa, Joseph F. ', 'Presson, Joelle C. ', 'Lindvall, Mikael ', 'Roesch, Matthew Ryan ', 'Sze, Heven ', 'Mariuzza, Roy A. ', 'Khurana, Archana ', 'Haines, Thomas J. ', 'Carpuat, Marine ', 'Minker, Jack ', 'Carleton, Karen ', 'Yoon, Ilchul ', 'Murtugudde, Raghu Gopalrao ', 'Gezari, Suvi ', 'Rolston, Steven ', 'Ricotti, Massimo ', 'Cremins, Casey ', 'Jawahery, Abolhassan ', 'Rubinstein, Yanir A. ', 'Brush, Stephen G. ', 'Butts, Daniel A. ', 'Paik, Ho Jung ', 'Zhang, Da-Lin ', 'Getoor, Lise ', 'Evans, Michael N. ', 'Lloyd, Isabel K. ', 'Cantemir-Stone, Carmen Z ', 'Eno, Sarah C. ', 'Cao, Kan ', 'Lichtman, Marc L ', 'Stocker, Lenea Hope ', 'Jeffery, William Richard ', 'Gulick, Denny ', 'Vinnikov, Konstantin ', 'Roy, Sougata ', 'Cumings, John ', 'Helz, George R. ', 'Dolgopyat, Dmitry ', 'Gutierrez, Osvaldo ', 'Mullin, Amy S. ', 'Vanhoy, Garrett M ', 'Kedem, Benjamin ', 'Daberkow, Julie A. ', 'Pilachowski, Timothy John ', 'Bhattacharyya, Shuvra S. ', 'McIver, Kevin S. ', 'Bedaque, Paulo Sergio Fortes ', 'Kacorri, Hernisa ', 'Lee, Jinwoo ', 'Doermann, David Scott ', 'Nigam, Sumant ', 'Hamilton, Douglas C. ', 'Cukier, Michel ', 'Alexander, James C. ', 'Baer, Ferdinand ', 'Oard, Douglas William ', 'Walters, Barbara S. ', 'Papoian, Garegin ', 'Seo, Eun-Suk ', 'Hines, Anson H. ', 'Blough, Neil V. ', 'Green, Paul S. ', 'Liu, Zhongchi ', 'Jose, Antony Merlin ', 'Herb, Rebecca A. ', 'Griffith, Elizabeth Campbell ', 'Herman, Laurence Alan ', 'Hicks, Michael W. ', 'Imbert-Gerard, Lise-Marie ', 'Washington, Lawrence C. ', 'Jabeen, Shabnam ', 'McLaren, Karen ', 'Speer, Colenso M. ', 'Regli, William C III', 'Hoffman, Kara ', 'Thorne, Barbara L. ', 'Migdall, Alan L. ', 'Linke, Norbert Matthias ', 'Sandstrom, David J. ', 'Mamat, Anwar ', 'Wilkinson, Gerald S. ', 'Golschmidt, Elizabeth ', 'Araneda, Ricardo C. ', 'Zwicker, Matthias ', 'Forni, Giovanni ', 'Antonsen, Thomas M. Jr.', 'Greene, Richard L. ', 'Burghardt, Karin Twardosz ', 'Kirkpatrick, Theodore R. ', 'Bhagat, Satindar M. ', 'Froehlich, Jon Edward ', 'Mosser, David M. ', 'Isaacs, Lyle D. ', 'King, Henry C. ', 'Currie, Douglas George ', 'Knight, Matthew M ', 'Manning, Nathan ', 'Mount, David M. ', \"O'Shea, Patrick \", 'Elman, Howard C. ', 'Kueker, David W. ', 'Hook, Anson ', 'Hu, Bei Lok Bernard ', 'Koeth, Timothy W. ', 'White, Owen R ', 'Dickerson, John Paul ', 'Jarzynski, Christopher ', 'Babuska, Ivo M. ', 'Brown, Michael ', 'Wang, Alice H. ', 'Fey, James T. ', 'Koppel, Monique ', 'Cohen, Avis H. ', 'Fisher, Michael E. ', 'Mumm, Hans Pieter ', 'Pinker, Rachel T. ', 'Trevino, Rodrigo ', 'Davidson, John A. ', 'Pop, Mihai ', 'Friedman, Lee ', 'Otte, Michael Wilson ', 'Saavedra, Francisca ', 'Hayes-Gehrke, Melissa N ', 'Drew, Howard Dennis ', 'Carroll, Sean B. ', 'Sundrum, Raman ', 'Laszlo, Istvan ', 'Kacser, Claude ', 'Montague-Smith, Michael P ', 'Mazurek, Michelle ', 'Misner, Charles W. ', 'Goldman, William Mark ', 'Nochetto, Ricardo H. ', 'Filippou, Jason ', 'Rosca, Raluca I. ', 'Wang, Lai-Xi ', 'Taylor, Jacob ', 'Slud, Eric Victor ', 'Terpos, Colleen Marie ', 'Bruns, Emily Louise ', 'Dayie, Theodore Kwaku ', 'Fagan, Bill ', 'Neel, Maile C ', 'Sussman, Alan L. ', 'Clark, Charles Winthrop ', 'StLeger, Raymond J. ', 'Moctezuma, Edgar ', 'Peel, Alan C ', 'Kaloshin, Vadim ', 'Ling, Jiqiang ', 'Machedon, Matei ', 'Hamilton, Douglas P. ', 'Truman, Kathryn E. ', 'Pati, Jogesh C. ', 'Yager, David D. ', \"O'Haver, Thomas C. \", 'McBride, Alison A ', 'Ji, Xiangdong ', 'Hugue, Michelle M. ', 'Harris, Andrew I. ', 'Reaka, Marjorie Lindquist ', 'Dumitras, Tudor ', 'Franklin, Debra Gray ', 'Lamp, William O. ', 'Kaufman, Alan Jay ', 'Papamanthou, Charalampos ', 'Doboszczak, Stefan ', 'Bhatti, Anwar A. ', 'Li, Zhanqing ', 'Grosser-Clarkson, Dana Lynn ', 'Saegusa, Takumi ', 'Wylie, Ann G. ', 'Goodman, Jordan A. ', 'Heidarian Boroujeni, Negar ', 'Miller, Gerald Ray. ', 'Franco Sevilla, Manuel ', 'Johnson, Raymond L. ', 'DeVoe, Howard J. ', 'Solomon, Glenn S. ', 'Fourkas, John T. ', 'Miralles-Wilhelm, Fernando R. ', 'Bhatele, Abhinav ', 'Manucharyan, Vladimir ', 'Sprangle, Phillip Allen ', 'Glaz, Harland M. ', 'Wellstood, Frederick C. ', 'Kasler, Franz J. ', 'Roy, Rajarshi ', 'Bezejouh, Ben Nkafu ', 'Chang, Chung-Yun ', 'Parent, Beth ', 'Perlis, Donald R. ', 'Takeuchi, Ichiro ', 'Wang, YuHuang ', 'Hamilton, David H. ', 'Gorshkov, Alexey ', 'Simon, Jonathan Z. ', 'Doyle, Michael P. ', 'Yorke, James A. ', 'Kuo, Paulina ', 'Montesi, Laurent G.J. ', 'Joseph, Sammy W. ', 'Palmer, Margaret A. ', 'Baden, Andrew R. ', 'Richard, Jean-Paul ', 'Horty, John ', 'Simon, Anne Elizabeth ', 'Wu, Min ', 'Platt, Christopher J. ', 'Shi, Elaine Runting ', 'Julienne, Paul Sebastian ', 'Penniston-Dorland, Sarah C ', 'Korenman, Victor ', 'Ying, Jordan ', 'Kruskal, Clyde P. ', 'Galitski, Victor M ', 'Lee, Sangbok ', 'Grillakis, Manoussos ', 'Marzullo, Keith Ansel ', 'Scull, Margaret Adele ', 'Cohen, Thomas D. ', 'Hawthorne, David J. ', 'Chant, Nicholas S. ', 'Aloimonos, John Yiannis ', 'Higgins, William J. ', 'Ofek, Gilad Adi ', 'Plane, Jandelyn Dawn ', 'Silver, Richard M. ', 'Greybush, Steven J. ', 'Zwolak, Michael ', 'Butch, Nicholas P ', 'Fleischer, Robert C. ', 'Liu, Chuan Sheng ', 'Adams, Jeffrey D. ', 'Tycko, Robert ', 'Anastos, George ', 'Corckran, Jay ', 'Palmer, Benjamin S. ', 'Brosnan, Patrick ', 'Earl, James A. ', 'Poulin, Myles ', 'Pick, Leslie ', 'Sita, Lawrence R. ', 'Mignerey, Alice C. ', 'Kent, Bretton W. ', 'Spring, Neil ', 'Wilson, Shelby Nicole ', 'Adams, William W. ', 'Osborn, Kevin D ', 'Sullivan, Gregory W. ', 'Fox, Caitlin Moira ', 'Wyss-Gallifent, Justin Olav ', 'Zelkowitz, Marvin V. ', 'Long, Terence Dyer ', 'Castillo, Carlos ', 'Jarvis, Bruce B. ', 'Ebrahimian, Roohollah ', 'Bellama, Jon M. ', 'Chacko, Zackaria ', 'Duraiswami, Ramani ', 'Lekic, Vedran ', 'Lazar, Amanda Erin ', 'Sadeghian, Pedram ', 'Swingle, Brian ', 'Rodriguez, Efrain E. ', 'Reggia, James A. ', 'Nau, Dana S. ', 'Jacobs, David ', 'Boyd, Derek A. ', 'Wu, Ching-Sheng ', 'Dorfman, Jay Robert ', 'Candela, Philip A. ', 'Cohen, Daniel ', 'Griffin, James J. ', 'Shrivastava, Abhinav ', 'Shapiro, Leo H. ', 'Weeks, Virginia Lynn ', 'Kim, Ki-Yong ', 'Mazzullo, Susan Claire ', 'Fenselau, Catherine ', 'Jacobson, Theodore A. ', 'Kollár, Alicia J. ', 'Barg, Alexander ', 'Ehrlich, Gertrude ', 'Wolfe, Peter ', 'Bederson, Ben ', 'Brill, Dieter R. ', 'Ma, Michael C. ', 'Marsh, Michael Alan ', 'Anisimov, Mikhail A. ', 'Girvan, Michelle ', 'Johnson, Philip Lee Falk ', 'Orsetti, Santuria ', 'Schafer, James A. ', 'Daniels, Kevin M ', 'Falvey, Daniel E. ', 'Barbosa, Pedro ', 'Huang, Mong-Han ', 'Roy, Nirupam ', 'Tokekar, Pratap ', 'Arbaugh, William ', 'Jenkins, Gregory S. ', 'Raschid, Louiqa ', 'Cameron, Maria K. ', 'Waks, Edo ', 'Davis, Larry S. ', 'Moss, Bernard ', 'Dachman-Soled, Dana ', 'Yang, Grace L. ', 'Buehrle, David C. ', 'Lehner, Ellen Correl ', 'Winkler, Wade C. ', 'Kleist, Daryl T ', 'Grant, John ', 'Padua-Perez, Nelson ', 'Fritz, Megan Lindsay ', 'Lorimer, George H. ', 'Hobart, Peter M ', 'Weiner, Ronald M. ', 'Colombini, Marco ', 'Gholampour, Amin ', 'Hassam, Adil B. ', 'Lipsman, Ronald L. ', 'DeShong, Philip R. ', 'Merck, John W Jr.', 'Battle, Leilani ', 'Kempton, Eliza ', 'Popper, Arthur N. ', 'Hill, Wendell T. III', 'Gunatilleka, Mestiyage Don Danul Kavindr ', 'Bedrossian, Jacob Philip ', 'Keller, Michael John ', 'Polyakov, Sergey ', 'Oehrlein, Gottlieb ', 'Schneider, David I. ', 'Kirk-Davidoff, Daniel B ', 'Inouye, David W. ', 'Roberts, Douglas A. ', 'Leventhal, Marvin ', 'Einstein, Theodore L. ', 'Ramachandran, Niranjan ', 'Brown, Amy ', 'Choe, Eun Kyoung ', 'Cooper, Jeffery M. ', 'Paczolt, Kimberly ', 'Glasper Andrews, Erica ', 'Gill, Douglas E. ', 'Wong, Wiseley ', 'Wu, Xiaodi ', 'Linduska, James J. ', 'Roussopoulos, Nicholas ', 'Tchetcherina, Natalia F. ', 'Boyle, McBlaine Michael ', 'Cleaveland, Walter Rance II', 'Dorland, William Douglass ', 'Faller, Alan J. ', 'Kahn, Jason D. ', 'Sunshine, Jessica M ', 'Andrade, Marcos F. ', 'Thompson, Katerina V. ', 'Jabin, Pierre-Emmanuel ', 'Farrell, Sinead Louise ', 'Sagdeev, Roald Z. ', 'Tadmor, Eitan ', 'Julin, Douglas A. ', 'Phaneuf, Raymond J. ', 'Reutt-Robey, Janice ', \"O'Leary, Dianne P. \", 'Juntti, Scott A. ', 'Vogel, Stuart N. ', 'Wallace, James M. ', 'Dodson, Leah G ', 'Mitter, Charles ', 'Rubloff, Gary W. ', 'Shultz, Jeffrey W. ', 'Lyzinski, Vincent Paul ', 'Gebremariam, Hailu Bantu ', 'Ide, Kayo ', 'Rankin, Mary Ann ', 'Lawson, Wesley Grant ', 'Paukstelis, Paul ', 'Levy, Doron ', 'Resnik, Philip S. ', 'Keleher, Peter J. ', 'Shankar, A Udaya ', 'Roos, Philip G. ', 'Koralov, Leonid ', 'Menzer, Robert E. ', 'Okoudjou, Kasso A. ', 'Purdy, Thomas P. ', 'Schildknecht, William R. ', 'Darvas, Tamas ', 'Quraishi, Qudsia ', 'Schmerr, Nicholas C. ', 'Sengers, Jan V. ', 'Dorr, Bonnie J. ', 'Fushman, David ', 'Margetis, Dionisios ', 'El-Sayed, Najib M. ', 'Porter, Adam A. ', 'Nelson, Judd O. ', 'Berg, Kenneth R. ', 'Novikov, Sergei ', 'Coplan, Michael A. ', 'Alves, Jose-Henrique ', 'Pierce, Sidney K. Jr.', 'Poterjoy, Jonathan ', 'Laskowski, Michael C. ', 'Shawhan, Peter ', 'Auslander, Joseph ', 'Feizi, Soheil ', 'Daume, Hal III', 'Phillips, William D. ', 'Sahinoglu, Hatice ', 'Stein, Daniel C. ', 'McIlrath, Thomas J. ', 'Kelman, Zvi ', 'Gong, Cheng ', 'Hadley, Nicholas J. ', 'Quinlan, Elizabeth M. ', 'Hollingsworth, Jeffrey K. ', 'Thirumalai, Devarajan ', 'Gloeckler, George ', 'Yakovenko, Victor M. ', 'Prestegaard, Karen L. ', 'Srinivasan, Aravind ', 'Arevalo, Ricardo David Jr.', 'Caras, Melissa Lynne ', 'Chembo, Yanne Kouomou ', 'Ren, Joan JianJian ', 'Doetsch, Raymond N. ', 'Walters, William B. ', 'Wang, Weikun ', 'Green, Kim Y ', 'Halperin, Steve ', 'Rudlosky, Scott D. ', 'Kim, Young Suh ', 'Smith, Paul John ', 'Elmqvist, Niklas E ', 'Golub, Evan ', 'Nico, Jeffrey Scott ', 'Belloni, Alberto ', 'Rosenberg, Jonathan M. ', 'Yeung, Donald ', 'Campbell, Gretchen Kathleen ', 'Sather, Jerome O. ', 'Skuja, Andris ', 'Lips, Karen R. ', 'Capp, Christopher Lee ', 'Milikh, Gennady ', 'Hansen, John Norman ', 'Appelbaum, Ian ', 'Hellman, John L. ', 'Michelato, Barbara ', 'Zeng, Ning ', 'Schlenoff, Craig Ian ', 'Xu, Jian Lun ', 'Williams, James ', 'Pugh, William ', 'Mount, Stephen M. ', 'Lombardi, Sara ', 'Turpen, Chandra A. ', 'Czaja, Wojciech ', 'Frauwirth, Kenneth ', 'Hamza, Iqbal ', 'Lee, Vincent T. ', 'Levermore, Charles D. ', 'Doddridge, Bruce G. ', 'Ouyang, Min ', 'Gantt, Elisabeth ', \"O'Brochta, David A. \", 'Colwell, Rita R. ', 'Sukharev, Sergei I. ', 'Dudash, Michele R. ', 'Zwanzig, Robert W. ', 'Lahiri, Partha ', 'Shofner, Marcia A. ', 'Thomson, Erin Michelle ', 'Tamvakis, Harry ', 'Gaudry, Quentin ', 'Vishkin, Uzi ', 'Straney, David C. ', 'Walsworth, Ronald L ', 'Mazzocchi, Paul H. ', 'Walker, Richard J. ', 'Porto, Trey ', 'Barkeshli, Maissam ', 'Altschul, Stephen F. ', 'Brin, Michael ', 'Mason, Glenn M. ', 'Baras, John S. ', 'Chang, Chia-Cheh ', 'Anlage, Steven Mark ', 'Deshpande, Amol ', 'Klavans, Judith L ', 'Beckett, Dorothy ', 'Moult, John ', 'Wolpert, Scott A. ', 'Williams, Kendall Ryan Ashford ', 'Chang, Caren ', 'Davoudi, Zohreh ', 'Ades, Albert Z. ', 'Lathrop, Daniel Perry ', 'Sanyal, Anita ', 'Mohapatra, Rabindra N. ', 'Dively, Galen P. II', 'Siegrist, Henry ', 'Jakobson, Michael ', 'Davis, Jeffery T. ', 'DeFloriani, Leila ', 'Herzberg, Osnat ', 'Via, Sara ', 'Ellingson, Robert G. ', 'Wallace, Stephen J. ', 'Redish, Edward F. ', 'Mather, John ', 'Fenster, Charles B. ', 'Swenson, Nathan G. ', 'Zotkin, Dmitry Nikolaevich ', 'Peng, Huaishu ', 'Preece, Jennifer J. ', 'Monroe, Christopher ', 'Singer, Joshua ', 'Frias-Martinez, Vanessa ', 'Orozco, Luis A. ', 'Schech, Amanda J. ', 'White, Natalia L. ', 'Harris, David Gershon Bressler ', 'Srivastava, Ankur ', 'Fisher, Heidi ', 'Machado, Carlos A. ', 'Agashe, Kaustubh Sadanand ', 'Allewell, Norma M. ', 'Eichhorn, Bryan W. ', 'McEnery, Julie E. ', 'Centorbi, Tracey L. ', 'Samet, Hanan ', 'Dickerson, Russell R. ', 'Marino, John Paul ', 'Benedetto, John J. ', 'Mushotzky, Richard ', 'Antman, Stuart S. ', 'Bely, Alexandra E. ', 'Cerrai, Sandra ', 'Elby, Andrew ', 'Das Sarma, Sankar ', 'Feijo, Jose A. ', 'Hafezi, Mohammad ', 'Ott, Edward ', 'Farquhar, James ', 'Dinman, Jonathan D. ', 'Braun, Michael James ', 'Borgia, Gerald ', 'Drake, James F. ', 'Decola, Philip Lawrence ', 'Woodham, Hadiya Atasha ', 'Lobb, Christopher J. ', 'Bolatto, Alberto Daniel ', 'Emad, Fawzi Jr.', 'Glick, Arnold J. ', 'Rabin, Oded ', 'Buchner, John ', 'Balan, Radu Victor ', 'Zimmer, Elizabeth ', 'Harrington, James Patrick ', 'LaRonde, Nicole A. ', 'Manocha, Dinesh ', 'vanEngelsdorp, Dennis ', 'Varshney, Amitabh ', 'Cooke, Todd J. ', 'Deming, Leo Drake ', 'Guest, Christiana Addei Maanu ', 'Goldstein, Thomas Aaron ', 'Andrews, Norma Windsor ', 'Reveal, James L. ', 'Mundy, Lee G. ', 'Gruner, Daniel S. ', 'Gasarch, William ', 'Lynn, Jeffrey W. ', 'Agrawala, Ashok K. ', 'Papadopoulos, Konstantinos Dennis ', 'Dragt, Alex J. ', 'Chellappa, Ramalingam ', 'DeStefano, Jeffrey J. ', 'Wolniak, Stephen M. ', 'Mazzola, Eugene P. ', 'Ellis, Robert L. ', 'Gilkeson, Scott ', 'Wenegrat, Jacob ', 'Holtz, Thomas Richard Jr.', 'Zheng, Quanan ', 'Killion, Patrick J ', 'Yuan, Robert T. ', 'Paglione, Johnpierre ', 'Zachariah, Michael R. ', 'Reynolds, Christopher S. ', 'Griffin, Matthew ', 'Uccellini, Louis ', 'Kalnay, Eugenia E. ', 'Hajiaghayi, Mohammad Taghi ', 'Spielman, Ian B. ', 'Hall, Carter ', 'Tanner, Kandice D. ', 'Rasmusson, Eugene M. ', 'Shneiderman, Ben A. ', 'Fernandes, Jonathan Francis ', 'Helzer, Garry A. ', 'Infantino, Robert L. Jr.', 'Huang, Furong ', 'Fuerst, Thomas ', 'Dixon, Bonnie Lynn ', 'Williams, Ellen D. ', 'Kaushal, Sujay ', 'Wentworth, Richard Alan ', 'Carr, Catherine Emily ', 'Rostovtseva, Tatiana K. ', 'Haag, Eric S ', 'Beise, Elizabeth Jane ', 'Childs, Andrew M ', 'Grim, Samuel O. ', 'Wu, Louisa P. ', 'Murphy, Thomas E. ', 'Hudson, Robert D. ', 'Compton, Reid S. ', 'Zhu, Wenlu ', 'Goupell, Matthew Joseph ', 'Yashinski, Allan Anthony ', 'Kanigowski, Adam Mariusz ', 'Weeks, John D. ', 'Richardson, Derek Charles ', 'Tielens, Alexander ', 'Tiwary, Pratyush ', 'Williams, Carl J. ', 'Foster, Jeffrey S. ', 'Leiserson, Mark ', 'Ball, Gregory F. ', 'Van Horn, David ', 'Melnick, Karin Hanley ', 'Sau, Jay Deep ', 'Cummings, Michael P. ', 'Orban, John P. ', 'Greenberg, Oscar Wallace ', 'Milchberg, Howard M. ', 'Purtilo, James M. ', 'Wilkerson, Thomas D. ', 'Severson, Matt ', 'Basili, Victor R. ', 'Mohan, Swarna ', 'Dwyer, Daniel J ', 'Millson, John J. ', 'Preston, Scott R ', 'Tran, Erin EH ', 'Kanal, Laveen N. ', 'Patro, Robert Scott ', 'Henson-Darko, Sarah ', 'Cohen, Joel M. ', 'Kirwan, William E. ', 'Roberson, Bob S. ', 'Veilleux, Sylvain ', 'Corrada Bravo, Hector ', 'Bhattacharjee, Samrat ', 'Vedernikov, Andrei ', 'Lin, Ming C ', 'Mo, Yifei ', 'Khuller, Samir ', 'Bryant, Garnett Woodruff ', 'Thompson, Anne ', 'Briken, Volker ', 'Hooks, Cerruti RR ', 'Hunt, Brian R. ', 'Duncan, James H. ', 'Nie, Zhihong ', 'Upadhyaya, Arpita ', 'Alexander, Millard H. ', 'Bierman, Hilary Susan ', 'Lampel, Keith A. ', 'Vernekar, Anandu D. ', 'DeSilva, Alan W. ', 'Tiesinga, Eite ', 'Rosenberg, Theodore J. ', 'Stone, Earle ', 'Newcombe, Megan Eve ', 'Zickert, Christian Krogager ', 'Freidlin, Mark I. ', 'Feldman, Naomi ', 'Shrewsbury, Paula M. ', 'Carton, James A. ', 'Stoltzfus, Arlin ', 'Fitzpatrick, Patrick M. ', 'Findlater, Leah ', 'Nickel, Christine ', 'Chadwick, Steven Greg ', 'Ruppin, Eytan ', 'Trivisa, Konstantina ', 'Highton, Richard ', 'Wang, Jian ', 'McDonough, William F. ', 'Dancis, Jerome ', 'Mellet, Antoine ', 'Nusinovich, Gregory ', 'Levin, David ', 'Stewart, Gilbert W. ', 'Espindola, Anahi ', 'Kocher, Thomas David '}\n"
     ]
    }
   ],
   "source": [
    "faculty_blocks = soup.find_all(\"p\", class_=\"faculty-item\")\n",
    "\n",
    "# Keeping track of only CS and ENGR professors, but this is arbitrary\n",
    "CMNS_profs = set()\n",
    "ENGR_profs = set()\n",
    "all_profs = set()\n",
    "\n",
    "for block in faculty_blocks:\n",
    "    \n",
    "    # Names are stored within the <strong/> tag\n",
    "    name = block.strong.string \n",
    "    \n",
    "    # content structure: space,  name, space, <br/>, description\n",
    "    contents = block.contents\n",
    "    description = contents[4]\n",
    "    \n",
    "    all_profs.add(name)\n",
    "    \n",
    "    if \"CMNS\" in description:\n",
    "        CMNS_profs.add(name)\n",
    "    \n",
    "    elif \"ENGR\" in description:\n",
    "        ENGR_profs.add(name)\n",
    "        \n",
    "print(CMNS_profs)"
   ]
  },
  {
   "cell_type": "markdown",
   "metadata": {},
   "source": [
    "## Requesting Data from the UMD Subreddit with PushShift API"
   ]
  },
  {
   "cell_type": "code",
   "execution_count": 14,
   "metadata": {},
   "outputs": [
    {
     "name": "stdout",
     "output_type": "stream",
     "text": [
      "submission(created_utc=1605375823, selftext='Who should i take, Justin or teli', title='Cmsc 351', created=1605393823.0, d_={'created_utc': 1605375823, 'selftext': 'Who should i take, Justin or teli', 'title': 'Cmsc 351', 'created': 1605393823.0})\n",
      "submission(created_utc=1605373752, selftext=\"Just noticed Justin was teaching CMSC351. I'm taking it with Teli but Justin is highly rated. Any thoughts?\", title='Justin Wyss-Gallifent for CMSC351', created=1605391752.0, d_={'created_utc': 1605373752, 'selftext': \"Just noticed Justin was teaching CMSC351. I'm taking it with Teli but Justin is highly rated. Any thoughts?\", 'title': 'Justin Wyss-Gallifent for CMSC351', 'created': 1605391752.0})\n",
      "submission(created_utc=1605332596, selftext=\"Originally I signed up for cmsc417 with marsh and cmsc426 with teli. I decided I wanted to take cmsc475 graph theory also. So I filled out the google doc to get rid of cmsc417 and replaced it with cmsc475. The thing is I didn't really want to drop cmsc417 though so I just added cmsc475. \\n\\nWhat happens if I just stay in all three of these classes? Would they know? Would they kick me out?\", title=\"What happens if I got permission to take a CS class but didn't drop the old one?\", created=1605350596.0, d_={'created_utc': 1605332596, 'selftext': \"Originally I signed up for cmsc417 with marsh and cmsc426 with teli. I decided I wanted to take cmsc475 graph theory also. So I filled out the google doc to get rid of cmsc417 and replaced it with cmsc475. The thing is I didn't really want to drop cmsc417 though so I just added cmsc475. \\n\\nWhat happens if I just stay in all three of these classes? Would they know? Would they kick me out?\", 'title': \"What happens if I got permission to take a CS class but didn't drop the old one?\", 'created': 1605350596.0})\n",
      "submission(created_utc=1605135529, selftext='I know there’s definitely posts about it In the past but due to the online formate I wanted to get some new insight . How do kruskal and teli compare for 351? They both are teaching it next semester . Or now that it’s online is it pretty much the same class ? And for 330 next semester its mamat or Hicks, I saw mamat is teaching 330 this semester , hows that been online with the online format ? Just trying to choose who to take for these two classes .\\nThanks', title='Professors for cmsc351 and 330', created=1605153529.0, d_={'created_utc': 1605135529, 'selftext': 'I know there’s definitely posts about it In the past but due to the online formate I wanted to get some new insight . How do kruskal and teli compare for 351? They both are teaching it next semester . Or now that it’s online is it pretty much the same class ? And for 330 next semester its mamat or Hicks, I saw mamat is teaching 330 this semester , hows that been online with the online format ? Just trying to choose who to take for these two classes .\\nThanks', 'title': 'Professors for cmsc351 and 330', 'created': 1605153529.0})\n",
      "submission(created_utc=1603095799, selftext='Hi everyone, I was wondering if it’s worth it to retake cmsc417.\\n\\nOriginally I took it with Bobby during Junior year and I withdrew with a W because of how unhelpful he was at answering my questions and crazy deadlines. Next semester Marsh is teaching it and I know he’s easier. Since I have the first 3 of the projects that I got 100s on, should I retake cmsc417 with Marsh? \\n\\nI’m also interested in doing Computer vision with Teli. Is he easy? I’ve never taken computer vision before. \\n\\nI’m currently a senior.', title='Retaking cmsc417 with Marsh next semester + cmsc426 with Teli?', created=1603113799.0, d_={'created_utc': 1603095799, 'selftext': 'Hi everyone, I was wondering if it’s worth it to retake cmsc417.\\n\\nOriginally I took it with Bobby during Junior year and I withdrew with a W because of how unhelpful he was at answering my questions and crazy deadlines. Next semester Marsh is teaching it and I know he’s easier. Since I have the first 3 of the projects that I got 100s on, should I retake cmsc417 with Marsh? \\n\\nI’m also interested in doing Computer vision with Teli. Is he easy? I’ve never taken computer vision before. \\n\\nI’m currently a senior.', 'title': 'Retaking cmsc417 with Marsh next semester + cmsc426 with Teli?', 'created': 1603113799.0})\n",
      "submission(created_utc=1602731267, selftext='Im in the ML concenctration, but I wanted to take a lot of theory classes and more applied cs classes too, so this is what I was thinking for next sem in terms of my schedule:\\n\\nCMSC 470 - Intro to NLP. Has a 3.3 avg gpa on planetterp\\n\\nCMSC 424 - Intro to database design, with kehler ive heard it may be difficult\\n\\nCMSC 426 - Intro to Comp Vision with teli, ive heard this is math heavy but it does have a 3.18 avg\\n\\n&amp;#x200B;\\n\\nDo yall think this is manageable??', title='Taking 3 CS classes next semester', created=1602749267.0, d_={'created_utc': 1602731267, 'selftext': 'Im in the ML concenctration, but I wanted to take a lot of theory classes and more applied cs classes too, so this is what I was thinking for next sem in terms of my schedule:\\n\\nCMSC 470 - Intro to NLP. Has a 3.3 avg gpa on planetterp\\n\\nCMSC 424 - Intro to database design, with kehler ive heard it may be difficult\\n\\nCMSC 426 - Intro to Comp Vision with teli, ive heard this is math heavy but it does have a 3.18 avg\\n\\n&amp;#x200B;\\n\\nDo yall think this is manageable??', 'title': 'Taking 3 CS classes next semester', 'created': 1602749267.0})\n",
      "submission(created_utc=1602399284, selftext=\"These are the 5 classes I plan on taking and I'm set in stone on them. I have completed every other degree requirement for cs general track except the five 400 levels so this is literally all I have left.\\n \\n\\tCMSC414 - Computer and Network Security\\n\\t\\t\\tMichelle Mazurek (0101) OR Ian Miers (0201)\\n\\tCMSC420 (Advanced Data Structures)\\n\\t\\t\\tDavid Mount (0101)\\n\\tCMSC426 (Computer Vision) \\n\\t\\t\\tTeli (0101)\\n\\tCMSC424 (Database Design)\\n\\t\\t\\tPeter Keleher (0101)\\n\\tCMSC 435 (3) Software Engineering\\n\\t\\t\\tGarrett Vanhoy (0201) \\n\\nFrom everything I've read, it seems like 435 and 424 will be the most challenging. 420 and 426 shouldn't be too bad. 414 seems alright. How would you split these 5 courses up between the two semesters? I definitely want to go ahead and knock out 3 classes this semester, I'm just not sure which ones. Whatever two I don't take Spring 2021, I'll take Fall 2021.\", title=\"I have 5 CMSC 4xx courses left and nothing else: what's the best way to split them up between 2 semesters?\", created=1602417284.0, d_={'created_utc': 1602399284, 'selftext': \"These are the 5 classes I plan on taking and I'm set in stone on them. I have completed every other degree requirement for cs general track except the five 400 levels so this is literally all I have left.\\n \\n\\tCMSC414 - Computer and Network Security\\n\\t\\t\\tMichelle Mazurek (0101) OR Ian Miers (0201)\\n\\tCMSC420 (Advanced Data Structures)\\n\\t\\t\\tDavid Mount (0101)\\n\\tCMSC426 (Computer Vision) \\n\\t\\t\\tTeli (0101)\\n\\tCMSC424 (Database Design)\\n\\t\\t\\tPeter Keleher (0101)\\n\\tCMSC 435 (3) Software Engineering\\n\\t\\t\\tGarrett Vanhoy (0201) \\n\\nFrom everything I've read, it seems like 435 and 424 will be the most challenging. 420 and 426 shouldn't be too bad. 414 seems alright. How would you split these 5 courses up between the two semesters? I definitely want to go ahead and knock out 3 classes this semester, I'm just not sure which ones. Whatever two I don't take Spring 2021, I'll take Fall 2021.\", 'title': \"I have 5 CMSC 4xx courses left and nothing else: what's the best way to split them up between 2 semesters?\", 'created': 1602417284.0})\n",
      "submission(created_utc=1598113234, selftext='Title', title='Does anyone have access old Teli lecture videos for 351', created=1598131234.0, d_={'created_utc': 1598113234, 'selftext': 'Title', 'title': 'Does anyone have access old Teli lecture videos for 351', 'created': 1598131234.0})\n",
      "submission(created_utc=1596645639, selftext=\"I finished cmsc351 from Teli. He basically cut off everything on NP. So I really don't know. But I will take 451 so I would like to learn it. Where can be a good resourc eto learn np?\", title='Is there any good resource to learn about NP-completeness?', created=1596663639.0, d_={'created_utc': 1596645639, 'selftext': \"I finished cmsc351 from Teli. He basically cut off everything on NP. So I really don't know. But I will take 451 so I would like to learn it. Where can be a good resourc eto learn np?\", 'title': 'Is there any good resource to learn about NP-completeness?', 'created': 1596663639.0})\n",
      "submission(created_utc=1594912649, selftext='(Saw a similar post and am following up). I’m enrolled in Teli’s 351 class and I’m really concerned that there are only 120 people in the class, which might change the grade distributions a lot. I’ve also heard that Telis exams are nothing like the HWs, unlike Kruskal who’s hws are like the exams, so should I switch to Kruskal or stick with Teli?', title='Is taking Teli for 351 still worth it?', created=1594930649.0, d_={'created_utc': 1594912649, 'selftext': '(Saw a similar post and am following up). I’m enrolled in Teli’s 351 class and I’m really concerned that there are only 120 people in the class, which might change the grade distributions a lot. I’ve also heard that Telis exams are nothing like the HWs, unlike Kruskal who’s hws are like the exams, so should I switch to Kruskal or stick with Teli?', 'title': 'Is taking Teli for 351 still worth it?', 'created': 1594930649.0})\n"
     ]
    }
   ],
   "source": [
    "import praw\n",
    "from psaw import PushshiftAPI\n",
    "\n",
    "api = PushshiftAPI()\n",
    "\n",
    "query=\"teli|(mohammmad+teli)\"\n",
    "subs_gen = api.search_submissions(q=query, subreddit='umd', filter=['title', 'selftext'], limit=10)\n",
    "\n",
    "for sub in subs_gen:\n",
    "    print(sub)"
   ]
  },
  {
   "cell_type": "code",
   "execution_count": null,
   "metadata": {},
   "outputs": [],
   "source": []
  }
 ],
 "metadata": {
  "kernelspec": {
   "display_name": "Python 3",
   "language": "python",
   "name": "python3"
  },
  "language_info": {
   "codemirror_mode": {
    "name": "ipython",
    "version": 3
   },
   "file_extension": ".py",
   "mimetype": "text/x-python",
   "name": "python",
   "nbconvert_exporter": "python",
   "pygments_lexer": "ipython3",
   "version": "3.8.5"
  }
 },
 "nbformat": 4,
 "nbformat_minor": 4
}
