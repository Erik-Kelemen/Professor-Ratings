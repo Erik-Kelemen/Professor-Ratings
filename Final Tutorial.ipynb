{
 "cells": [
  {
   "cell_type": "markdown",
   "metadata": {},
   "source": [
    "# CMSC 320 - Final Tutorial - UMD Subreddit"
   ]
  },
  {
   "cell_type": "code",
   "execution_count": 153,
   "metadata": {},
   "outputs": [
    {
     "name": "stderr",
     "output_type": "stream",
     "text": [
      "[nltk_data] Downloading package stopwords to\n",
      "[nltk_data]     C:\\Users\\Will\\AppData\\Roaming\\nltk_data...\n",
      "[nltk_data]   Package stopwords is already up-to-date!\n"
     ]
    },
    {
     "data": {
      "text/plain": [
       "True"
      ]
     },
     "execution_count": 153,
     "metadata": {},
     "output_type": "execute_result"
    }
   ],
   "source": [
    "import requests\n",
    "\n",
    "import sqlite3\n",
    "from sqlite3 import Error\n",
    "\n",
    "import os\n",
    "from os import path\n",
    "\n",
    "import pandas as pd\n",
    "\n",
    "import nltk\n",
    "from nltk.corpus import stopwords\n",
    "nltk.download('stopwords')\n"
   ]
  },
  {
   "cell_type": "code",
   "execution_count": 34,
   "metadata": {},
   "outputs": [],
   "source": [
    "def make_get_request(URL, headers=None, given_params=None):\n",
    "    \"\"\"Sends a GET request to the given URL.\n",
    "    \n",
    "    Parameters\n",
    "    ----------\n",
    "    URL : str\n",
    "        The url to send a GET request\n",
    "    given_params : dictionary, optional\n",
    "        A dictionary of any additional parameters (default is None)\n",
    "        \n",
    "        \n",
    "    Returns\n",
    "    -------\n",
    "    dictionary\n",
    "        A dictionary containing the JSON response\n",
    "    \"\"\"\n",
    "    \n",
    "    SUCCESS = 200\n",
    "    response = requests.get(URL, headers=headers, params=given_params)\n",
    "    \n",
    "    if (response.status_code == SUCCESS):\n",
    "        return response\n",
    "    else:\n",
    "        return {};"
   ]
  },
  {
   "cell_type": "markdown",
   "metadata": {},
   "source": [
    "# Scrape and Parse Faculty"
   ]
  },
  {
   "cell_type": "markdown",
   "metadata": {},
   "source": [
    "## Attempted to use umd.io, but it appears to be rather glitchy"
   ]
  },
  {
   "cell_type": "code",
   "execution_count": 35,
   "metadata": {},
   "outputs": [
    {
     "name": "stdout",
     "output_type": "stream",
     "text": [
      "\n"
     ]
    }
   ],
   "source": [
    "\"\"\"\n",
    "umd_professor_url = \"https://api.umd.io/v1/professors\";\n",
    "page = 1\n",
    "professorNames = set() \n",
    "params = {'departments': 'CMSC', 'page': page}\n",
    "\n",
    "json = make_get_request(umd_professor_url, params)\n",
    "professorNames.update([professor['name'] for professor in json])\n",
    "\n",
    "while json is not None:\n",
    "    page = page + 1\n",
    "    params['page'] = page\n",
    "    \n",
    "    json = make_get_request(umd_professor_url, params)\n",
    "    if json:\n",
    "        professorNames.update([professor['name'] for professor in json])\n",
    "        \n",
    "    print(professorNames)\n",
    "        \n",
    "# print(professorNames)\n",
    "\"\"\"\n",
    "print()"
   ]
  },
  {
   "cell_type": "code",
   "execution_count": 65,
   "metadata": {},
   "outputs": [],
   "source": [
    "faculty_names_filepath = os.path.abspath('./data/db/faculty_names.db')\n",
    "should_scrape_names = not path.exists(faculty_names_filepath)"
   ]
  },
  {
   "cell_type": "markdown",
   "metadata": {},
   "source": [
    "## Scrape faculty from UMD faculty page"
   ]
  },
  {
   "cell_type": "code",
   "execution_count": 36,
   "metadata": {},
   "outputs": [],
   "source": [
    "from bs4 import BeautifulSoup\n",
    "\n",
    "# Headers for the request\n",
    "headers = {\n",
    "    \"User-Agent\": \"Mozilla/5.0 (Windows NT 10.0; Win64; x64; rv:82.0) Gecko/20100101 Firefox/82.0\",\n",
    "    \"Access-Control-Allow-Origin\": \"*\",\n",
    "    \"Access-Control-Allow-Headers\": \"Content-Type\",\n",
    "    \"Access-Control-Allow-Methods\": \"GET\"\n",
    "}\n",
    "\n",
    "if should_scrape_names:\n",
    "    faculty_url = \"https://academiccatalog.umd.edu/undergraduate/administrators-officials-faculty/\"\n",
    "    response = make_get_request(faculty_url, headers=headers)\n",
    "\n",
    "    soup = BeautifulSoup(response.content, 'html.parser')"
   ]
  },
  {
   "cell_type": "markdown",
   "metadata": {},
   "source": [
    "## Parse each listing into a name, type, and college"
   ]
  },
  {
   "cell_type": "code",
   "execution_count": 37,
   "metadata": {},
   "outputs": [],
   "source": [
    "def split_name(name):\n",
    "    # Name structure: <last name>, <first name> (<middle name/initial>)\n",
    "    split = name.split(',')\n",
    "    last_name = split[0]\n",
    "    \n",
    "    first_name = split[1].split()[0]\n",
    "    \n",
    "    return (first_name, last_name)"
   ]
  },
  {
   "cell_type": "markdown",
   "metadata": {},
   "source": [
    "#### Ignoring those who don't fall into the colleges listed below"
   ]
  },
  {
   "cell_type": "code",
   "execution_count": 79,
   "metadata": {},
   "outputs": [],
   "source": [
    "colleges = ['AGNR', 'ARCH', 'ARHU', 'BSOS', 'BMGT', 'CMNS', 'EDUC', 'ENGR', 'JOUR', 'INFO', 'SPHL', 'PLCY']\n",
    "\n",
    "# Description format: Type, SCHOOL-DEPARTMENT (repeated); Degree, University, Year; (repeated)\n",
    "def create_faculty(name, description, faculty_dict):\n",
    "    (first_name, last_name) = split_name(name.strip())\n",
    "    \n",
    "    job_type = description.split(',')[0]\n",
    "    college_dept = description.split(',')[1]\n",
    "    \n",
    "    # Not currently using, but may switch to it\n",
    "    faculty_college = college_dept.split('-')[0].strip()\n",
    "    \n",
    "    prof_colleges = []\n",
    "    for college in colleges:\n",
    "        if college in college_dept:\n",
    "            prof_colleges.append(college)\n",
    "    \n",
    "    if prof_colleges:\n",
    "        faculty = {'first_name': first_name, 'last_name': last_name, 'colleges': prof_colleges, 'type': job_type}\n",
    "\n",
    "        if name not in faculty_dict:\n",
    "            key = last_name + \", \" + first_name\n",
    "            faculty_dict[key] = faculty"
   ]
  },
  {
   "cell_type": "code",
   "execution_count": 83,
   "metadata": {},
   "outputs": [],
   "source": [
    "def read_names_from_db():\n",
    "    conn = create_connection(faculty_names_filepath)\n",
    "    cursor = conn.cursor()\n",
    "    cursor.execute(\"SELECT * FROM names\")\n",
    "    \n",
    "    all_faculty = {}\n",
    "    \n",
    "    for faculty in cursor.fetchall():\n",
    "        person = {'first_name': faculty[1], 'last_name': faculty[2], 'colleges': faculty[5], 'type': faculty[4]}\n",
    "        key = person[\"last_name\"] + \", \" + person[\"first_name\"]\n",
    "        all_faculty[key] = person\n",
    "        \n",
    "    return all_faculty"
   ]
  },
  {
   "cell_type": "code",
   "execution_count": 84,
   "metadata": {},
   "outputs": [
    {
     "name": "stdout",
     "output_type": "stream",
     "text": [
      "G:\\UMD\\FALL_2020\\CMSC320\\final-tutorial\\data\\db\\faculty_names.db\n"
     ]
    }
   ],
   "source": [
    "if should_scrape_names:\n",
    "    faculty_blocks = soup.find_all(\"p\", class_=\"faculty-item\")\n",
    "\n",
    "    # Keeping track of only CS and ENGR professors, but this is arbitrary\n",
    "    CMNS_profs = set()\n",
    "    ENGR_profs = set()\n",
    "    all_faculty = {}\n",
    "\n",
    "    for block in faculty_blocks:\n",
    "\n",
    "        # Names are stored within the <strong/> tag\n",
    "        name = block.strong.string \n",
    "\n",
    "        # content structure: space,  name, space, <br/>, description\n",
    "        contents = block.contents\n",
    "        description = contents[4]\n",
    "\n",
    "        create_faculty(name, description, all_faculty)\n",
    "\n",
    "        if \"CMNS\" in description:\n",
    "            CMNS_profs.add(name)\n",
    "\n",
    "        elif \"ENGR\" in description:\n",
    "            ENGR_profs.add(name)\n",
    "else:\n",
    "    all_faculty = read_names_from_db()\n",
    "        "
   ]
  },
  {
   "cell_type": "code",
   "execution_count": 87,
   "metadata": {},
   "outputs": [
    {
     "name": "stdout",
     "output_type": "stream",
     "text": [
      "{'first_name': 'Mohammad', 'last_name': 'Teli', 'colleges': 'ENGR', 'type': 'Lecturer'}\n"
     ]
    }
   ],
   "source": [
    "print(all_faculty[\"Teli, Mohammad\"])"
   ]
  },
  {
   "cell_type": "markdown",
   "metadata": {},
   "source": [
    "# Create a database functionality"
   ]
  },
  {
   "cell_type": "code",
   "execution_count": 41,
   "metadata": {},
   "outputs": [],
   "source": [
    "def create_connection(db_file):\n",
    "    conn = None\n",
    "    print(db_file)\n",
    "    try:\n",
    "        conn = sqlite3.connect(db_file)\n",
    "        return conn\n",
    "    except Error as e:\n",
    "        print(e)\n",
    "\n",
    "    return conn"
   ]
  },
  {
   "cell_type": "code",
   "execution_count": 42,
   "metadata": {},
   "outputs": [],
   "source": [
    "def create_table(conn, create_table_sql, params=()):\n",
    "    try:\n",
    "        c = conn.cursor()\n",
    "        c.execute(create_table_sql, params)\n",
    "    except Error as e:\n",
    "        print(e)"
   ]
  },
  {
   "cell_type": "markdown",
   "metadata": {},
   "source": [
    "## Create a database holding faculty information"
   ]
  },
  {
   "cell_type": "code",
   "execution_count": 43,
   "metadata": {},
   "outputs": [],
   "source": [
    "# Using only the first mentioned college for now, could switch later? Also only considering the colleges that were listed - others are ignored\n",
    "\n",
    "def create_names_table(conn):\n",
    "    names_table = \"\"\" CREATE TABLE IF NOT EXISTS names (\n",
    "                        id integer PRIMARY KEY,\n",
    "                        first_name text NOT NULL,\n",
    "                        last_name text NOT NULL,\n",
    "                        nick_name text,\n",
    "                        type text NOT NULL,\n",
    "                        college text NOT NULL,\n",
    "                        UNIQUE (first_name, last_name, type)\n",
    "                ) \"\"\"\n",
    "    create_table(conn, names_table)"
   ]
  },
  {
   "cell_type": "code",
   "execution_count": 44,
   "metadata": {},
   "outputs": [],
   "source": [
    "def insert_faculty_name(conn, faculty):\n",
    "    sql = \"\"\" INSERT OR IGNORE INTO names(first_name,last_name,type,college)\n",
    "                VALUES(?,?,?,?)\"\"\"\n",
    "    \n",
    "    cursor = conn.cursor()\n",
    "    cursor.execute(sql, faculty)\n",
    "    conn.commit()\n",
    "    \n",
    "    return cursor.lastrowid"
   ]
  },
  {
   "cell_type": "code",
   "execution_count": 45,
   "metadata": {},
   "outputs": [
    {
     "name": "stdout",
     "output_type": "stream",
     "text": [
      "G:\\UMD\\FALL_2020\\CMSC320\\final-tutorial/data/db/faculty_names.db\n"
     ]
    }
   ],
   "source": [
    "faculty_names_path = os.path.abspath('.')\n",
    "faculty_names_path = faculty_names_path + \"/data/db/faculty_names.db\"\n",
    "faculty_names_db = create_connection(faculty_names_path)\n",
    "\n",
    "create_names_table(faculty_names_db)\n",
    "                                      \n",
    "\n",
    "for faculty_name in all_faculty:\n",
    "    faculty = all_faculty[faculty_name]\n",
    "    \n",
    "    if not faculty[\"colleges\"]:\n",
    "        college = None\n",
    "    else:\n",
    "        college = faculty[\"colleges\"][0]\n",
    "        \n",
    "    params = (faculty[\"first_name\"], faculty[\"last_name\"], faculty[\"type\"], college)\n",
    "    \n",
    "    insert_faculty_name(faculty_names_db, params)\n",
    "    \n",
    "faculty_names_db.close()"
   ]
  },
  {
   "cell_type": "markdown",
   "metadata": {},
   "source": [
    "## Create a database per professor for comments and submissions mentioning them"
   ]
  },
  {
   "cell_type": "markdown",
   "metadata": {},
   "source": [
    "### Should only be done when a mention is found"
   ]
  },
  {
   "cell_type": "code",
   "execution_count": 46,
   "metadata": {},
   "outputs": [],
   "source": [
    "def normalize_name(name):\n",
    "    return ''.join(char for char in name if char.isalnum())"
   ]
  },
  {
   "cell_type": "code",
   "execution_count": 47,
   "metadata": {},
   "outputs": [],
   "source": [
    "def create_professor_tables(conn):\n",
    "    submissions_table = \"\"\" CREATE TABLE IF NOT EXISTS submissions (\n",
    "                            id integer PRIMARY KEY,\n",
    "                            sub_id text NOT NULL,\n",
    "                            title text NOT NULL,\n",
    "                            selftext text NOT NULL,\n",
    "                            score integer NOT NULL,\n",
    "                            full_link text NOT NULL,\n",
    "                            created_time integer NOT NULL,\n",
    "                            UNIQUE(sub_id)\n",
    "                        )\"\"\"\n",
    "    \n",
    "    comments_table = \"\"\" CREATE TABLE IF NOT EXISTS comments (\n",
    "                            id integer PRIMARY KEY,\n",
    "                            sub_id text NOT NULL,\n",
    "                            comment_id text NOT NULL,\n",
    "                            body text NOT NULL,\n",
    "                            score integer NOT NULL,\n",
    "                            created_time integer NOT NULL,\n",
    "                            UNIQUE(comment_id, sub_id)\n",
    "                    )\"\"\"\n",
    "    \n",
    "    create_table(conn, submissions_table)\n",
    "    create_table(conn, comments_table)"
   ]
  },
  {
   "cell_type": "code",
   "execution_count": 48,
   "metadata": {},
   "outputs": [],
   "source": [
    "def create_professor_db(filename):\n",
    "    directory = os.path.abspath('.')\n",
    "    filepath = directory + \"\\data\\db\\professors\\\\\" + filename\n",
    "    \n",
    "    professor_db = create_connection(filepath)\n",
    "    \n",
    "    create_professor_tables(professor_db)\n",
    "    \n",
    "    return professor_db"
   ]
  },
  {
   "cell_type": "code",
   "execution_count": 58,
   "metadata": {},
   "outputs": [],
   "source": [
    "def insert_submission(conn, values):\n",
    "    insert_sql = \"\"\"INSERT OR IGNORE INTO submissions (\n",
    "                        sub_id, title, selftext, score, full_link, created_time\n",
    "                    ) VALUES (?,?,?,?,?,?)\n",
    "                 \"\"\"\n",
    "    cursor = conn.cursor()\n",
    "    cursor.execute(insert_sql, values)\n",
    "    conn.commit()\n",
    "    \n",
    "    return cursor.lastrowid"
   ]
  },
  {
   "cell_type": "code",
   "execution_count": 50,
   "metadata": {},
   "outputs": [],
   "source": [
    "def insert_all_submissions(conn, df):\n",
    "    for idx, sub in df.iterrows():\n",
    "        insert_submission(conn, (sub['id'], sub['title'], sub['selftext'], sub['score'], sub['full_link'], sub['created_utc']))"
   ]
  },
  {
   "cell_type": "code",
   "execution_count": 51,
   "metadata": {},
   "outputs": [
    {
     "name": "stdout",
     "output_type": "stream",
     "text": [
      "\n"
     ]
    }
   ],
   "source": [
    "# This will create a database per professor immediately, no matter what. But we probably don't want that\n",
    "\"\"\"\n",
    "directory = os.path.abspath('.')\n",
    "directory = directory + \"\\data\\db\\professors\"\n",
    "\n",
    "for professor in all_faculty:\n",
    "    prof_name = split_name(professor)\n",
    "    prof_name = (normalize_name(prof_name[0]), normalize_name(prof_name[1]))\n",
    "    filename = prof_name[0] + \"_\" + prof_name[1] + \".db\" # first_last\n",
    "    \n",
    "    create_professor_db(filename)\n",
    "    \n",
    "\"\"\"\n",
    "print()"
   ]
  },
  {
   "cell_type": "markdown",
   "metadata": {},
   "source": [
    "## Requesting Data from the UMD Subreddit with PushShift API and BigQuery"
   ]
  },
  {
   "cell_type": "code",
   "execution_count": 52,
   "metadata": {},
   "outputs": [],
   "source": [
    "import praw\n",
    "from psaw import PushshiftAPI\n",
    "\n",
    "api = PushshiftAPI()"
   ]
  },
  {
   "cell_type": "code",
   "execution_count": 98,
   "metadata": {},
   "outputs": [],
   "source": [
    "def form_query(professor):\n",
    "    return \"{last_name}|({first_name}+{last_name})\".format(last_name=professor[\"last_name\"].lower(), first_name=professor[\"first_name\"].lower())"
   ]
  },
  {
   "cell_type": "code",
   "execution_count": 99,
   "metadata": {},
   "outputs": [],
   "source": [
    "def make_professor_filename(professor):\n",
    "    return normalize_name(professor[\"last_name\"]) + \"_\" + normalize_name(professor[\"first_name\"]) + \".db\""
   ]
  },
  {
   "cell_type": "code",
   "execution_count": 150,
   "metadata": {},
   "outputs": [],
   "source": [
    "umd_subreddit = 'umd'\n",
    "min_count = 10\n",
    "\n",
    "sub_limit = 100\n",
    "sub_filter = ['title', 'selftext', 'score', 'full_link', 'id', 'created_utc']\n",
    "\n",
    "def query_submissions_mentioning_professor(professor):\n",
    "    query = form_query(professor)\n",
    "    \n",
    "    submissions = api.search_submissions(q=query, subreddit=umd_subreddit, filter=sub_filter, limit=sub_limit)\n",
    "    df = pd.DataFrame([thing.d_ for thing in submissions])\n",
    "    \n",
    "    if len(df.index) == min_count:\n",
    "        filename = make_professor_filename(professor)\n",
    "        prof_db = create_professor_db(filename)\n",
    "        \n",
    "        df['selftext'] = df['selftext'].apply(lambda x: x.replace(\"\\n\", \" \").replace(\"\\t\", \" \"))\n",
    "        insert_all_submissions(prof_db, df)\n",
    "        prof_db.close()\n",
    "        \n",
    "    return df"
   ]
  },
  {
   "cell_type": "markdown",
   "metadata": {},
   "source": [
    "### Requesting data with the PushShift API"
   ]
  },
  {
   "cell_type": "code",
   "execution_count": 135,
   "metadata": {},
   "outputs": [],
   "source": [
    "comment_limit = 10\n",
    "comment_filter = ['body', 'score', 'created_utc', 'id', 'link_id']\n",
    "\n",
    "unmentioned_names = []\n",
    "\n",
    "query_all_professors = False\n",
    "\n",
    "if query_all_professors:\n",
    "    for professor_key in all_faculty:\n",
    "        professor = all_faculty[professor_key]\n",
    "        \n",
    "        query_submissions_mentioning_professor(professor)"
   ]
  },
  {
   "cell_type": "markdown",
   "metadata": {},
   "source": [
    "### Requesting stored data with Google's BigQuery and PushShift"
   ]
  },
  {
   "cell_type": "code",
   "execution_count": 94,
   "metadata": {},
   "outputs": [],
   "source": [
    "from google.cloud import bigquery"
   ]
  },
  {
   "cell_type": "markdown",
   "metadata": {},
   "source": [
    "# Analyze Word Frequency"
   ]
  },
  {
   "cell_type": "code",
   "execution_count": 151,
   "metadata": {},
   "outputs": [
    {
     "name": "stdout",
     "output_type": "stream",
     "text": [
      "Counter({'the': 225, 'to': 198, 'and': 175, 'i': 168, 'a': 168, 'is': 118, 'for': 104, 'teli': 102, 'of': 82, 'you': 82, 'in': 80, 'with': 79, 'it': 74, 'this': 74, 'class': 70, 'that': 63, 'was': 59, 'on': 58, 'but': 52, '351': 50, 'be': 50, 'are': 48, 'kruskal': 47, 'or': 46, 'semester': 45, 'im': 42, 'how': 40, 'take': 39, 'if': 39, 'as': 39, 'so': 38, 'about': 35, 'not': 34, 'have': 33, 'cmsc351': 31, 'get': 30, 'will': 29, 'taking': 27, 'would': 27, 'he': 27, 'can': 27, 'my': 26, 'what': 25, 'his': 25, 'were': 25, 'cs': 24, 'just': 23, 'do': 23, 'exams': 23, 'an': 23, 'up': 22, 'like': 22, 'any': 21, 'know': 21, 'classes': 20, 'some': 20, 'also': 19, 'they': 19, 'cmsc': 19, 'should': 18, 'all': 18, 'me': 18, 'which': 18, 'good': 18, 'has': 17, 'two': 17, 'had': 17, 'exam': 17, 'its': 16, 'next': 16, 'pretty': 16, 'because': 16, 'more': 16, 'grade': 16, 'section': 16, 'over': 16, 'teaching': 15, 'really': 15, 'much': 15, 'lot': 15, 'other': 15, 'dont': 15, 'fall': 15, 'only': 15, 'people': 15, 'than': 15, 'these': 14, 'questions': 14, 'got': 14, 'them': 14, 'there': 14, 'time': 14, 'who': 13, 'want': 13, 'at': 13, '426': 13, '451': 13, 'one': 13, 'waitlist': 13, 'hard': 13, 'homework': 13, 'points': 13, 'from': 12, 'sure': 12, 'telis': 12, 'him': 12, 'we': 12, 'computer': 11, 'does': 11, 'think': 11, 'am': 11, 'seats': 11, 'still': 11, 'anyone': 11, 'course': 11, 'concepts': 11, 'tas': 11, 'final': 11, 'cmsc426': 10, 'out': 10, 'online': 10, 'now': 10, '330': 10, 'kruskals': 10, 'professor': 10, '2': 10, 'students': 10, '320': 10, 'understand': 10, 'did': 10, 'lectures': 10, 'projects': 9, 'vision': 9, 'taken': 9, 'too': 9, 'heard': 9, 'most': 9, '420': 9, 'post': 9, 'cmsc320': 9, 'make': 9, 'b': 9, 'when': 9, '1': 9, 'nayeem': 9, 'wondering': 8, 'first': 8, '3': 8, 'easy': 8, 'ive': 8, 'those': 8, 'best': 8, 'by': 8, 'getting': 8, 'last': 8, 'way': 8, 'better': 8, 'lecture': 8, 'review': 8, 'schedule': 8, 'definitely': 7, 'past': 7, 'saw': 7, 'trying': 7, 'worth': 7, 'took': 7, 'before': 7, 'learn': 7, 'could': 7, 'difficult': 7, 'very': 7, 'algorithm': 7, 'help': 7, 'summer': 7, 'going': 7, 'work': 7, 'then': 7, 'well': 7, 'even': 7, 'mohammad': 7, '250': 7, 'cmsc417': 6, 'wanted': 6, 'same': 6, 'intro': 6, '5': 6, 'seems': 6, 'courses': 6, 'between': 6, 'ill': 6, 'see': 6, 'taught': 6, 'look': 6, 'into': 6, 'instead': 6, 'dickerson': 6, 'idea': 6, 'tba': 6, 'said': 6, 'days': 6, 'your': 6, 'average': 6, 'cmsc330': 6, 'prepare': 6, 'need': 6, 'say': 6, 'went': 6, 'week': 6, 'curve': 6, 'each': 5, 'justin': 5, 'drop': 5, 'both': 5, 'mamat': 5, 'during': 5, 'easier': 5, 'since': 5, 'bad': 5, 'go': 5, 'off': 5, 'where': 5, 'might': 5, 'study': 5, 'right': 5, 'things': 5, 'filippou': 5, 'using': 5, 'prof': 5, 'experience': 5, 'always': 5, 'super': 5, 'guys': 5, 'note': 5, 'together': 5, 'mean': 5, 'grades': 5, 'their': 5, 'early': 5, 'ta': 5, 'compared': 5, 'no': 5, 'tough': 5, 'cant': 5, 'problem': 5, 'especially': 5, 'practice': 5, 'material': 5, 'videos': 5, 'something': 5, 'back': 5, 'give': 5, 'major': 5, '422': 5, 'nice': 5, 'weeks': 5, 'programming': 5, 'vs': 5, 'tests': 5, 'why': 4, 'thoughts': 4, 'marsh': 4, 'theory': 4, 'filled': 4, 'thing': 4, 'didnt': 4, 'though': 4, 'thanks': 4, 'year': 4, 'w': 4, 'never': 4, 'currently': 4, 'may': 4, 'math': 4, 'left': 4, 'semesters': 4, 'np': 4, 'professors': 4, 'patro': 4, 'algorithms': 4, 'bit': 4, 'piazza': 4, 'years': 4, '216': 4, 'talk': 4, '2020': 4, 'try': 4, 'able': 4, 'averages': 4, 'open': 4, 'having': 4, 'sections': 4, 'cmsc451': 4, 'probably': 4, 'herman': 4, 'midterm': 4, 'decent': 4, 'grading': 4, 'write': 4, 'pass': 4, 'rather': 4, 'already': 4, 'n': 4, 'problems': 4, 'question': 4, 'find': 4, 'level': 4, 'remember': 4, 'helpful': 4, 'down': 4, 'old': 4, 'sometimes': 4, 'allowed': 4, 'helped': 4, 'homeworks': 4, 'another': 4, 'chill': 4, 'being': 4, 'project': 4, 'after': 4, 'later': 4, 'amazing': 4, 'fair': 4, 'us': 4, 'mohammed': 4, 'advice': 4, 'feel': 3, 'signed': 3, 'cmsc475': 3, 'due': 3, 'insight': 3, 'compare': 3, 'been': 3, 'crazy': 3, 'hes': 3, 'interested': 3, 'thinking': 3, 'terms': 3, 'gpa': 3, 'five': 3, 'cmsc414': 3, 'everything': 3, 'ones': 3, 'spring': 3, 'title': 3, 'similar': 3, 'enrolled': 3, 'change': 3, 'nothing': 3, 'friends': 3, 'difference': 3, 'doable': 3, 'whether': 3, 'show': 3, 'saying': 3, 'relevant': 3, 'ever': 3, 'cool': 3, 'example': 3, 'willing': 3, 'extra': 3, 'credit': 3, 'such': 3, 'recommend': 3, 'order': 3, 'needed': 3, 'maybe': 3, 'whats': 3, 'cancelled': 3, 'person': 3, 'many': 3, 'usually': 3, 'offer': 3, 'harder': 3, 'today': 3, 'cmsc411': 3, 'childs': 3, 'chances': 3, 'id': 3, 'seen': 3, 'arent': 3, 'done': 3, 'feelings': 3, 'provide': 3, 'eastman': 3, 'credits': 3, 'here': 3, '80': 3, 'lower': 3, '15': 3, 'deviation': 3, 'thats': 3, 'cutoffs': 3, 'solve': 3, 'tn': 3, 'use': 3, 'ask': 3, 'often': 3, 'brute': 3, 'force': 3, 'approach': 3, 'looking': 3, 'interview': 3, 'covered': 3, 'made': 3, 'once': 3, 'expected': 3, 'anything': 3, 'makes': 3, '10': 3, 'graduate': 3, 'fact': 3, 'coding': 3, 'learned': 3, 'mazzullo': 3, 'gym': 3, 'few': 3, 'barely': 3, '2019': 3, 'planning': 3, 'writing': 3, 'run': 3, 'workload': 3, 'actually': 3, 'around': 3, 'office': 3, 'hours': 3, 'thank': 3, 'midterms': 3, 'opinion': 3, 'complete': 3, 'yoon': 3, 'curves': 3, 'amp': 3, 'quality': 3, 'analysis': 3, 'weird': 2, 'justins': 2, 'highly': 2, 'decided': 2, 'happens': 2, 'stay': 2, 'three': 2, 'posts': 2, 'new': 2, 'hicks': 2, 'hows': 2, 'retake': 2, 'deadlines': 2, 'ml': 2, 'sem': 2, '424': 2, 'database': 2, 'design': 2, 'yall': 2, 'degree': 2, 'requirement': 2, 'track': 2, '400': 2, 'levels': 2, 'literally': 2, 'data': 2, '435': 2, 'read': 2, '414': 2, 'split': 2, 'ahead': 2, 'whatever': 2, '2021': 2, 'cut': 2, '120': 2, 'hws': 2, 'fully': 2, 'different': 2, 'hey': 2, 'appreciation': 2, 'teacherstas': 2, 'recent': 2, 'making': 2, 'future': 2, 'dr': 2, 'chance': 2, 'however': 2, 'stuff': 2, 'create': 2, 'whole': 2, 'response': 2, 'professional': 2, 'reasonable': 2, 'topic': 2, 'registered': 2, 'current': 2, '7': 2, 'internship': 2, 'side': 2, 'likely': 2, 'specifically': 2, 'total': 2, '16': 2, 'wasnt': 2, 'available': 2, '12th': 2, 'meanwhile': 2, 'andrew': 2, 'upper': 2, 'considering': 2, 'interviews': 2, 'research': 2, 'john': 2, 'unfair': 2, 'doesnt': 2, 'surprised': 2, '60': 2, 'cmsc389k': 2, '131': 2, 'profs': 2, 'scary': 2, 'succeed': 2, 'student': 2, 'etc': 2, 'c': 2, 'standard': 2, '46': 2, 'syllabus': 2, 'performance': 2, 'others': 2, 'youre': 2, 'ready': 2, 'instance': 2, '2tn2': 2, 'challenge': 2, 'pseudo': 2, 'code': 2, 'complexity': 2, 'optimized': 2, 'while': 2, 'useful': 2, 'graded': 2, 'long': 2, 'deserve': 2, 'popular': 2, 'isnt': 2, 'straight': 2, 'mistake': 2, 'end': 2, 'wouldnt': 2, 'lost': 2, 'honestly': 2, 'started': 2, 'explain': 2, 'comes': 2, 'used': 2, 'cmsc400': 2, 'hw': 2, '90': 2, 'add': 2, '3credit': 2, 'along': 2, 'weightlifting': 2, 'stat430': 2, 'machine': 2, 'learning': 2, 'genuinely': 2, 'times': 2, 'ramani': 2, 'duraiswami': 2, 'dry': 2, 'interesting': 2, 'quite': 2, 'considered': 2, 'spend': 2, 'gives': 2, 'python': 2, 'require': 2, 'groups': 2, 'overall': 2, 'efficient': 2, 'stressful': 2, 'conceptually': 2, 'less': 2, 'dave': 2, 'leilani': 2, 'sas': 2, 'video': 2, 'information': 2, 'recorded': 2, 'prior': 2, 'virgin': 2, 'share': 2, 'passing': 2, 'tips': 2, 'studying': 2, 'info': 2, 'appreciated': 2, 'r': 2, 'cover': 2, 'sophomore': 2, 'assuming': 2, 'kids': 2, 'through': 2, 'bravo': 2, '12': 2, 'worried': 2, 'feeling': 2, 'ie': 2, 'necessarily': 2, '417': 2, 'someone': 2, 'remaining': 2, 'put': 2, 'math461': 2, 'econ': 2, 'relatively': 2, 'late': 2, '30': 2, 'call': 2, 'second': 2, 'great': 2, 'load': 2, 'cmsc250': 2, 'clear': 2, 'believe': 2, 'start': 2, 'date': 2, 'itself': 2, 'understood': 2, 'style': 2, 'dev': 2, 'thread': 2, 'previous': 2, 'confirm': 2, 'lack': 2, 'talking': 2, 'cheating': 2, 'makeup': 2, 'stat400': 2, 'own': 2, 'july': 2, '8': 2, 'low': 2, 'impossible': 2, 'hear': 2, 'youtube': 2, 'recordings': 2, 'bsci170': 2, 'castillo': 2, '140': 1, 'spots': 1, '270': 1, 'noticed': 1, 'rated': 1, 'originally': 1, 'graph': 1, 'google': 1, 'doc': 1, 'rid': 1, 'replaced': 1, 'added': 1, 'kick': 1, 'theres': 1, 'formate': 1, 'format': 1, 'choose': 1, 'hi': 1, 'everyone': 1, 'cmsc417originally': 1, 'bobby': 1, 'junior': 1, 'withdrew': 1, 'unhelpful': 1, 'answering': 1, '100s': 1, 'doing': 1, 'senior': 1, 'concenctration': 1, 'applied': 1, 'schedulecmsc': 1, '470': 1, 'nlp': 1, '33': 1, 'avg': 1, 'planetterpcmsc': 1, 'kehler': 1, 'difficultcmsc': 1, 'comp': 1, 'heavy': 1, '318': 1, 'avgampx200bdo': 1, 'manageable': 1, 'plan': 1, 'set': 1, 'stone': 1, 'completed': 1, 'every': 1, 'general': 1, 'except': 1, 'network': 1, 'securitymichelle': 1, 'mazurek': 1, '0101': 1, 'ian': 1, 'miers': 1, '0201cmsc420': 1, 'advanced': 1, 'structuresdavid': 1, 'mount': 1, '0101cmsc426': 1, '0101cmsc424': 1, 'designpeter': 1, 'keleher': 1, '0101cmsc': 1, 'software': 1, 'engineeringgarrett': 1, 'vanhoy': 1, '0201': 1, 'challenging': 1, 'shouldnt': 1, 'alright': 1, 'knock': 1, 'finished': 1, 'basically': 1, 'resourc': 1, 'eto': 1, 'following': 1, 'concerned': 1, 'distributions': 1, 'unlike': 1, 'whos': 1, 'switch': 1, 'stick': 1, 'version': 1, 'switching': 1, 'desired': 1, 'couple': 1, 'true': 1, 'drastic': 1, 'negligible': 1, 'company': 1, 'alternative': 1, 'swap': 1, 'math241': 1, 'stat464': 1, 'subreddit': 1, 'negative': 1, 'department': 1, 'drama': 1, 'postsemester': 1, 'cuz': 1, 'assure': 1, 'exist': 1, 'examples': 1, 'hopes': 1, 'possibly': 1, 'awesome': 1, 'professorslecturers': 1, 'personal': 1, 'contribution': 1, 'rob': 1, '423': 1, 'bioinformatics': 1, 'databases': 1, 'toolsif': 1, 'searchingmatching': 1, 'pleasant': 1, 'man': 1, 'graphs': 1, 'documents': 1, 'markdowns': 1, 'timeexplanations': 1, 'stellar': 1, 'shining': 1, 'pandemic': 1, 'careful': 1, 'compassionate': 1, 'collected': 1, 'ridiculous': 1, 'amount': 1, 'extended': 1, 'passion': 1, 'accomplished': 1, 'guy': 1, 'terp': 1, 'grad': 1, 'honorable': 1, 'mentions': 1, '4': 1, 'anwar': 1, '433': 1, 'nelson': 1, 'guysampx200btldr': 1, 'dope': 1, 'youve': 1, 'positivity': 1, 'dark': 1, 'likelihood': 1, 'fucknlogn': 1, 'dohttpswwwcscmueduckingsfbioinfolecturesclosepointspdf': 1, 'job': 1, 'corona': 1, 'wait': 1, 'possibility': 1, 'fill': 1, 'advantage': 1, '40s': 1, '11': 1, '220': 1, 'knows': 1, 'beginning': 1, 'listed': 1, 'cap': 1, '13th': 1, 'decide': 1, 'myself': 1, '411': 1, 'togethereither': 1, 'reccomend': 1, 'cmsc320with': 1, '260': 1, 'iribe': 1, 'inkling': 1, 'exact': 1, 'semesterif': 1, 'turns': 1, 'btw': 1, 'deal': 1, 'median': 1, '44': 1, '46big': 1, 'yikes': 1, 'advisor': 1, 'she': 1, 'request': 1, 'rejected': 1, 'forget': 1, 'induction': 1, '216ive': 1, 'previously': 1, 'justification': 1, 'glad': 1, 'ass': 1, 'flunk': 1, 'fail': 1, 'mightve': 1, 'gotten': 1, '1std': 1, 'below': 1, 'single': 1, 'mess': 1, 'imo': 1, 'rest': 1, 'peace': 1, 'focus': 1, 'discuss': 1, 'details': 1, 'ofcwhat': 1, 'schedules': 1, 'fire298': 1, '132yes': 1, '320330351': 1, 'combination': 1, 'killer': 1, 'guaranteed': 1, 'manage': 1, '13': 1, '456': 1, 'washington': 1, 'jason': 1, 'matter': 1, 'content': 1, 'tougher': 1, 'scores': 1, 'lowest': 1, 'steps': 1, 'succeedi': 1, 'attempt': 1, 'disclaimer': 1, 'enough': 1, 'carries': 1, 'wellhow': 1, 'worksthe': 1, 'stop': 1, 'varies': 1, 'varyfor': 1, 'higher': 1, '63': 1, '68': 1, '48': 1, 'averagefor': 1, 'shift': 1, 'uses': 1, '14': 1, 'point': 1, '74': 1, 'bwhat': 1, 'evaluating': 1, 'assignment': 1, 'publicly': 1, 'posted': 1, 'averagestandard': 1, '5515': 1, '70': 1, '40': 1, 'cone': 1, 'based': 1, 'values': 1, 'measure': 1, 'announcedexams': 1, 'finalsas': 1, 'plenty': 1, 'pointed': 1, 'tend': 1, 'equipped': 1, 'modify': 1, 'small': 1, 'ways': 1, 'recurrence': 1, 'solving': 1, '2tn3': 1, 'practiceon': 1, 'typical': 1, 'six': 1, 'variants': 1, 'applications': 1, 'typically': 1, 'accomplish': 1, 'task': 1, 'manner': 1, 'optimal': 1, 'admittedly': 1, 'frustrating': 1, 'normally': 1, 'worse': 1, 'algorithmfor': 1, 'index': 1, 'number': 1, '50': 1, 'sorted': 1, 'array': 1, '100': 1, 'integers': 1, 'iterate': 1, 'list': 1, 'olgn': 1, 'binary': 1, 'searchto': 1, 'practicing': 1, 'leetcode': 1, 'medium': 1, 'arrays': 1, 'come': 1, 'questionsdont': 1, 'stress': 1, 'without': 1, 'full': 1, 'themhomeworksdo': 1, 'trouble': 1, 'remembering': 1, 'rewatched': 1, 'pause': 1, 'slow': 1, 'important': 1, 'notesregradesassignments': 1, 'gradescope': 1, 'means': 1, 'conceptual': 1, 'wont': 1, 'deserveremember': 1, 'respectful': 1, 'contrary': 1, 'belief': 1, 'youeven': 1, 'away': 1, 'wrong': 1, 'afraid': 1, 'unless': 1, 'misread': 1, 'wrote': 1, 'expect': 1, 'awayif': 1, 'friend': 1, 'anywaysstudying': 1, 'peersin': 1, 'worked': 1, 'indicates': 1, 'policy': 1, 'meeting': 1, 'shot': 1, 'identify': 1, 'silly': 1, 'errors': 1, 'explaining': 1, 'vice': 1, 'versa': 1, 'materialwe': 1, 'met': 1, 'types': 1, 'classof': 1, 'group': 1, 'productive': 1, 'bottom': 1, 'line': 1, 'friendsclassmates': 1, 'reviewing': 1, 'normal': 1, 'scale': 1, 'stacking': 1, 'against': 1, 'alex': 1, 'reustles': 1, 'noteshttps351pdfnetlifycomutmsourceshareamputmmediumiosappamputmnameiossmf': 1, 'formalized': 1, 'algorithmic': 1, 'began': 1, 'lucky': 1, 'especiallyrecently': 1, 'scared': 1, 'looks': 1, 'intimidating': 1, '0301': 1, 'preferred': 1, 'teacher': 1, 'logged': 1, 'testudo': 1, 'spot': 1, 'shows': 1, 'attempted': 1, 'refused': 1, 'register': 1, 'closednow': 1, 'advising': 1, 'lets': 1, 'yep': 1, '1credit': 1, 'knes': 1, 'destressing': 1, 'creditswhy': 1, 'recommended': 1, 'ms': 1, 'third': 1, 'classhow': 1, 'sounds': 1, 'moments': 1, 'drowning': 1, 'free': 1, 'seemed': 1, 'biweekly': 1, 'pattern': 1, 'halftheory': 1, 'halfcoding': 1, 'overlap': 1, '426that': 1, 'cmsc422': 1, 'david': 1, 'jacobs': 1, 'coteaching': 1, 'friendly': 1, 'tools': 1, 'tensorflow': 1, 'retaught': 1, 'substantial': 1, 'linear': 1, 'algebraintensive': 1, 'prerequisite': 1, 'tended': 1, 'beware': 1, 'intense': 1, 'jupyter': 1, 'notebooks': 1, 'numpy': 1, 'matplotlib': 1, 'opencv': 1, 'computation': 1, 'brilliant': 1, 'wellmanaged': 1, 'far': 1, 'form': 1, 'brain': 1, 'bang': 1, 'head': 1, 'npcomplete': 1, 'reduction': 1, 'visit': 1, 'mathematical': 1, 'coming': 1, 'proving': 1, 'correctness': 1, 'intuition': 1, 'dynamic': 1, 'common': 1, '77': 1, 'bound': 1, 'cmsc389o': 1, 'yourself': 1, 'technical': 1, 'cmsc396h': 1, 'honors': 1, 'seminar': 1, 'levin': 1, 'battle': 1, 'guest': 1, 'supposed': 1, 'majority': 1, 'month': 1, 'approachable': 1, 'susan': 1, 'lady': 1, 'friday': 1, 'wednesday': 1, 'chats': 1, 'via': 1, 'zoom': 1, 'sasondemand': 1, 'environment': 1, 'mondays': 1, 'wednesdays': 1, 'inclass': 1, 'including': 1, 'uploaded': 1, 'elms': 1, 'stat401': 1, 'knes157n': 1, 'tim': 1, 'henkel': 1, 'weak': 1, 'bitch': 1, 'tad': 1, 'swole': 1, 'destress': 1, 'inspired': 1, 'classregardless': 1, 'outcome': 1, 'alive': 1, 'update': 1, '454': 1, '388m': 1, 'kruskaltelietc': 1, 'semesteryear': 1, 'incoming': 1, 'consuming': 1, 'cs100200': 1, '400s': 1, 'hate': 1, 'classcan': 1, 'skip': 1, 'ace': 1, 'slidesnotes': 1, 'specific': 1, 'algo': 1, 'textbook': 1, 'happened': 1, 'registering': 1, 'limited': 1, 'sectionim': 1, 'hope': 1, 'cautious': 1, 'half': 1, 'either': 1, 'gonna': 1, 'gods': 1, 'beat': 1, 'because2': 1, 'apart': 1, 'disabled': 1, 'entire': 1, 'remembered': 1, 'found': 1, 'slower': 1, 'completeness': 1, 'result': 1, 'prepared': 1, 'intensive': 1, 'castillos': 1, 'semesterwith': 1, 'memy': 1, 'engl398b': 1, 'overlapping': 1, 'deadlinesworkload': 1, 'inputthanks': 1, 'easiermore': 1, 'assume': 1, 'distribution': 1, 'percentage': 1, 'projectsasking': 1, 'cause': 1, 'wanting': 1, 'although': 1, 'seriously': 1, 'hated': 1, 'fault': 1, 'worst': 1, 'university': 1, 'finally': 1, 'dfsbfs': 1, 'nirupam': 1, 'roy': 1, 'name': 1, 'sazawal': 1, 'curious': 1, 'passablerecommended': 1, 'rising': 1, 'helpsthe': 1, 'followscmsc330roger': 1, 'eastmancmsc351mohammed': 1, 'telicmsc389kstat400tim': 1, 'pilachowskimath461antoine': 1, 'melletecon200erin': 1, 'moodymainly': 1, 'adding': 1, 'sooner': 1, 'opened': 1, 'program': 1, 'reminisce': 1, 'ups': 1, 'downs': 1, 'cmsc131': 1, 'pugh': 1, 'came': 1, 'college': 1, 'nevertheless': 1, '75': 1, 'wakeup': 1, 'expectations': 1, 'collegelevel': 1, 'breakout': 1, 'gamethat': 1, 'hellish': 1, 'resources': 1, 'lots': 1, 'fly': 1, 'cmsc132': 1, 'broad': 1, 'introduction': 1, 'endthe': 1, 'confusing': 1, 'parts': 1, 'hermans': 1, 'descriptions': 1, 'sizable': 1, 'pulled': 1, 'cmsc216': 1, 'herm': 1, 'spermthis': 1, 'overview': 1, 'underlying': 1, 'functionalities': 1, 'tricky': 1, 'hell': 1, 'debug': 1, 'assembly': 1, 'nightmare': 1, 'grateful': 1, 'lecturer': 1, 'explanationsexamples': 1, 'until': 1, 'cowritten': 1, 'brought': 1, 'again': 1, 'gave': 1, 'money': 1, 'managed': 1, 'farhicks': 1, 'fast': 1, 'slides': 1, 'active': 1, 'till': 1, 'classi': 1, 'ample': 1, 'beforehand': 1, 'grasp': 1, 'turned': 1, 'coder': 1, 'changed': 1, 'habits': 1, 'curvecutoff': 1, 'management': 1, 'hosting': 1, 'weekly': 1, 'reviewhw': 1, 'sessions': 1, 'test': 1, 'finals': 1, 'choices': 1, 'oh': 1, 'bive': 1, 'elective': 1, 'hector': 1, 'teaches': 1, 'rabout': 1, 'middle': 1, 'mathheavy': 1, 'treatment': 1, 'science': 1, 'typehe': 1, 'quiet': 1, 'handwriting': 1, 'wack': 1, 'luckily': 1, 'hectors': 1, 'opportunities': 1, 'earning': 1, 'fullstack': 1, 'web': 1, 'stic': 1, 'knowledgeable': 1, 'assignments': 1, 'technologies': 1, 'mongodb': 1, 'heroku': 1, 'aas': 1, 'nonstop': 1, 'mind': 1, 'slips': 1, 'option': 1, 'bother': 1, 'figured': 1, 'easily': 1, 'jokes': 1, 'takes': 1, 'answers': 1, 'methodical': 1, 'logical': 1, 'encourage': 1, 'impressive': 1, 'evident': 1, 'likes': 1, 'entirely': 1, 'perfect': 1, 'biggest': 1, 'unorganized': 1, 'reddit': 1, 'solutions': 1, 'joke': 1, 'relevance': 1, 'issue': 1, 'reflect': 1, 'variations': 1, 'quicksort': 1, 'tested': 1, 'become': 1, 'organized': 1, 'cares': 1, 'despite': 1, 'complaints': 1, 'generally': 1, 'fine': 1, 'whove': 1, 'tea': 1, 'differ': 1, 'heavily': 1, 'voted': 1, 'bunch': 1, 'fake': 1, 'accounts': 1, 'spamming': 1, 'aprils': 1, 'foolive': 1, 'kid': 1, 'hanging': 1, 'building': 1, 'speaking': 1, 'international': 1, 'language': 1, 'giving': 1, 'scoring': 1, 'dox': 1, 'mail': 1, 'cmsc330eastmancmsc351telimath461antoine': 1, 'melletstat400pilachowskiinst201tbacmsc389ktbaedcp108iely': 1, 'cotaught': 1, 'offs': 1, 'remembers': 1, 'haround': 1, 'insights': 1, 'classlike': 1, 'aside': 1, 'meesh': 1, '28': 1, '19': 1, 'hour': 1, '25': 1, 'minutes': 1, 'otheris': 1, 'miserablerisk': 1, 'withdrawtanking': 1, 'harsh': 1, 'grader': 1, 'architecture': 1, 'ampx200bhowever': 1, 'runs': 1, 'august': 1, 'concurrently': 1, 'attractiveampx200bthank': 1, 'youampx200b': 1, 'aloimonos': 1, 'frustrated': 1, 'watch': 1, 'redo': 1, 'annoying': 1, 'part': 1, 'works': 1, 'high': 1, 'recommendations': 1, 'channels': 1, 'theyre': 1, 'comments': 1, 'difficulty': 1, 'sekora': 1, 'std': 1, '8am': 1, 'discussion': 1, 'nah': 1, 'aspects': 1, 'prep': 1, 'prepping': 1, 'itany': 1, 'regrets': 1, 'regards': 1, 'rubbing': 1, 'testudos': 1, 'nosealso': 1, 'professorsbig': 1, 'kellerbsci171': 1, 'kirschtelstat400': 1, 'khuranacmsc250': 1, 'telicmsc132': 1, 'fawziim': 1, 'psyc': 1, 'double': 1, 'main': 1, '171': 1, 'horrid': 1, 'related': 1, 'instructors': 1, '132': 1, 'figure': 1, 'lighten': 1, 'everyones': 1, 'hajiaghayi': 1, 'versus': 1, 'stuck': 1, 'deleted': 1, 'anybody': 1, 'wyssgallifent': 1, 'permission': 1, 'retaking': 1, '4xx': 1, 'else': 1, 'access': 1, 'resource': 1, 'npcompleteness': 1, 'cmsc433': 1, 'cmsc424': 1, 'cmsc320teli': 1, 'math241justin': 1, 'stat430christine': 1, 'teacherta': 1, 'asked': 1, 'solution': 1, 'closest': 1, 'pairs': 1, '216351': 1, '216352': 1, 'affect': 1, 'potential': 1, 'carlos': 1, 'demystifying': 1, '389o': 1, '396h': 1, 'cs451': 1, 'fucked': 1, 'registration': 1, 'november': 1, '20th': 1, '830am': 1, 'opinions': 1, 'safe': 1, 'andor': 1, 'majors': 1, '2year': 1, 'sound': 1, 'mellet': 1, 'khurana': 1, 'engl393': 1, 'experiences': 1, 'panopto': 1, 'moment': 1, 'says': 1, 'krystal': 1})\n"
     ]
    }
   ],
   "source": [
    "import re\n",
    "import itertools\n",
    "import collections\n",
    "\n",
    "teli_df = query_submissions_mentioning_professor(all_faculty[\"Teli, Mohammad\"])\n",
    "all_text = teli_df['selftext'].tolist() + teli_df['title'].tolist()\n",
    "clean_text = [re.sub(r'[^A-Za-z0-9 ]+', '', x).lower() for x in all_text]\n",
    "\n",
    "words_per_message = [text.split() for text in clean_text]\n",
    "\n",
    "all_words = list(itertools.chain(*words_per_message))\n",
    "\n",
    "count_all_words = collections.Counter(all_words)\n",
    "print(count_all_words)"
   ]
  },
  {
   "cell_type": "code",
   "execution_count": 152,
   "metadata": {},
   "outputs": [
    {
     "name": "stdout",
     "output_type": "stream",
     "text": [
      "teli: 102\n",
      "class: 70\n",
      "351: 50\n",
      "kruskal: 47\n",
      "semester: 45\n",
      "im: 42\n",
      "take: 39\n",
      "cmsc351: 31\n",
      "get: 30\n",
      "taking: 27\n",
      "would: 27\n",
      "cs: 24\n",
      "exams: 23\n",
      "like: 22\n",
      "know: 21\n",
      "classes: 20\n",
      "also: 19\n",
      "cmsc: 19\n",
      "good: 18\n",
      "two: 17\n",
      "exam: 17\n",
      "next: 16\n",
      "pretty: 16\n",
      "grade: 16\n",
      "section: 16\n",
      "teaching: 15\n",
      "really: 15\n",
      "much: 15\n",
      "lot: 15\n",
      "dont: 15\n",
      "fall: 15\n",
      "people: 15\n",
      "questions: 14\n",
      "got: 14\n",
      "time: 14\n",
      "want: 13\n",
      "426: 13\n",
      "451: 13\n",
      "one: 13\n",
      "waitlist: 13\n",
      "hard: 13\n",
      "homework: 13\n",
      "points: 13\n",
      "sure: 12\n",
      "telis: 12\n",
      "computer: 11\n",
      "think: 11\n",
      "seats: 11\n",
      "still: 11\n",
      "anyone: 11\n"
     ]
    },
    {
     "name": "stderr",
     "output_type": "stream",
     "text": [
      "[nltk_data] Downloading package stopwords to\n",
      "[nltk_data]     C:\\Users\\Will\\AppData\\Roaming\\nltk_data...\n",
      "[nltk_data]   Package stopwords is already up-to-date!\n"
     ]
    }
   ],
   "source": [
    "default_stopwords = set(stopwords.words('english'))\n",
    "\n",
    "all_words = [word for word in all_words if word not in default_stopwords]\n",
    "\n",
    "freqDist = nltk.FreqDist(all_words)\n",
    "\n",
    "\n",
    "for word, freq in freqDist.most_common(50):\n",
    "    print(\"{}: {}\".format(word, freq))"
   ]
  },
  {
   "cell_type": "code",
   "execution_count": null,
   "metadata": {},
   "outputs": [],
   "source": []
  },
  {
   "cell_type": "code",
   "execution_count": null,
   "metadata": {},
   "outputs": [],
   "source": []
  }
 ],
 "metadata": {
  "kernelspec": {
   "display_name": "Python 3",
   "language": "python",
   "name": "python3"
  },
  "language_info": {
   "codemirror_mode": {
    "name": "ipython",
    "version": 3
   },
   "file_extension": ".py",
   "mimetype": "text/x-python",
   "name": "python",
   "nbconvert_exporter": "python",
   "pygments_lexer": "ipython3",
   "version": "3.8.5"
  }
 },
 "nbformat": 4,
 "nbformat_minor": 4
}
