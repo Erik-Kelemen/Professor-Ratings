{
 "cells": [
  {
   "cell_type": "markdown",
   "metadata": {},
   "source": [
    "# CMSC 320 - Final Tutorial - UMD Subreddit"
   ]
  },
  {
   "cell_type": "code",
   "execution_count": 1,
   "metadata": {},
   "outputs": [],
   "source": [
    "import requests\n",
    "import sqlite3\n",
    "from sqlite3 import Error\n",
    "import os"
   ]
  },
  {
   "cell_type": "code",
   "execution_count": 2,
   "metadata": {},
   "outputs": [],
   "source": [
    "def make_get_request(URL, headers=None, given_params=None):\n",
    "    \"\"\"Sends a GET request to the given URL.\n",
    "    \n",
    "    Parameters\n",
    "    ----------\n",
    "    URL : str\n",
    "        The url to send a GET request\n",
    "    given_params : dictionary, optional\n",
    "        A dictionary of any additional parameters (default is None)\n",
    "        \n",
    "        \n",
    "    Returns\n",
    "    -------\n",
    "    dictionary\n",
    "        A dictionary containing the JSON response\n",
    "    \"\"\"\n",
    "    \n",
    "    SUCCESS = 200\n",
    "    response = requests.get(URL, headers=headers, params=given_params)\n",
    "    \n",
    "    if (response.status_code == SUCCESS):\n",
    "        return response\n",
    "    else:\n",
    "        return {};"
   ]
  },
  {
   "cell_type": "markdown",
   "metadata": {},
   "source": [
    "# Scrape and Parse Faculty"
   ]
  },
  {
   "cell_type": "markdown",
   "metadata": {},
   "source": [
    "## Attempted to use umd.io, but it appears to be rather glitchy"
   ]
  },
  {
   "cell_type": "code",
   "execution_count": 3,
   "metadata": {},
   "outputs": [
    {
     "name": "stdout",
     "output_type": "stream",
     "text": [
      "\n"
     ]
    }
   ],
   "source": [
    "\"\"\"\n",
    "umd_professor_url = \"https://api.umd.io/v1/professors\";\n",
    "page = 1\n",
    "professorNames = set() \n",
    "params = {'departments': 'CMSC', 'page': page}\n",
    "\n",
    "json = make_get_request(umd_professor_url, params)\n",
    "professorNames.update([professor['name'] for professor in json])\n",
    "\n",
    "while json is not None:\n",
    "    page = page + 1\n",
    "    params['page'] = page\n",
    "    \n",
    "    json = make_get_request(umd_professor_url, params)\n",
    "    if json:\n",
    "        professorNames.update([professor['name'] for professor in json])\n",
    "        \n",
    "    print(professorNames)\n",
    "        \n",
    "# print(professorNames)\n",
    "\"\"\"\n",
    "print()"
   ]
  },
  {
   "cell_type": "markdown",
   "metadata": {},
   "source": [
    "## Scrape faculty from UMD faculty page"
   ]
  },
  {
   "cell_type": "code",
   "execution_count": 4,
   "metadata": {},
   "outputs": [],
   "source": [
    "from bs4 import BeautifulSoup\n",
    "\n",
    "# Headers for the request\n",
    "headers = {\n",
    "    \"User-Agent\": \"Mozilla/5.0 (Windows NT 10.0; Win64; x64; rv:82.0) Gecko/20100101 Firefox/82.0\",\n",
    "    \"Access-Control-Allow-Origin\": \"*\",\n",
    "    \"Access-Control-Allow-Headers\": \"Content-Type\",\n",
    "    \"Access-Control-Allow-Methods\": \"GET\"\n",
    "}\n",
    "\n",
    "faculty_url = \"https://academiccatalog.umd.edu/undergraduate/administrators-officials-faculty/\"\n",
    "response = make_get_request(faculty_url, headers=headers)\n",
    "\n",
    "soup = BeautifulSoup(response.content, 'html.parser')"
   ]
  },
  {
   "cell_type": "markdown",
   "metadata": {},
   "source": [
    "## Parse each listing into a name, type, and college"
   ]
  },
  {
   "cell_type": "code",
   "execution_count": 5,
   "metadata": {},
   "outputs": [],
   "source": [
    "def split_name(name):\n",
    "    # Name structure: <last name>, <first name> (<middle name/initial>)\n",
    "    split = name.split(',')\n",
    "    last_name = split[0]\n",
    "    \n",
    "    first_name = split[1].split()[0]\n",
    "    \n",
    "    return (first_name, last_name)"
   ]
  },
  {
   "cell_type": "markdown",
   "metadata": {},
   "source": [
    "#### Ignoring those who don't fall into the colleges listed below"
   ]
  },
  {
   "cell_type": "code",
   "execution_count": 6,
   "metadata": {},
   "outputs": [],
   "source": [
    "colleges = ['AGNR', 'ARCH', 'ARHU', 'BSOS', 'BMGT', 'CMNS', 'EDUC', 'ENGR', 'JOUR', 'INFO', 'SPHL', 'PLCY']\n",
    "\n",
    "# Description format: Type, SCHOOL-DEPARTMENT (repeated); Degree, University, Year; (repeated)\n",
    "def create_faculty(name, description, faculty_dict):\n",
    "    (first_name, last_name) = split_name(name.strip())\n",
    "    \n",
    "    job_type = description.split(',')[0]\n",
    "    college_dept = description.split(',')[1]\n",
    "    \n",
    "    faculty_college = college_dept.split('-')[0].strip()\n",
    "    \n",
    "    prof_colleges = []\n",
    "    for college in colleges:\n",
    "        if college in college_dept:\n",
    "            prof_colleges.append(college)\n",
    "    \n",
    "    if prof_colleges:\n",
    "        faculty = {'first_name': first_name, 'last_name': last_name, 'colleges': prof_colleges, 'type': job_type}\n",
    "\n",
    "        if name not in faculty_dict:\n",
    "            faculty_dict[name.strip()] = faculty"
   ]
  },
  {
   "cell_type": "code",
   "execution_count": 7,
   "metadata": {},
   "outputs": [],
   "source": [
    "faculty_blocks = soup.find_all(\"p\", class_=\"faculty-item\")\n",
    "\n",
    "# Keeping track of only CS and ENGR professors, but this is arbitrary\n",
    "CMNS_profs = set()\n",
    "ENGR_profs = set()\n",
    "all_faculty = {}\n",
    "\n",
    "for block in faculty_blocks:\n",
    "    \n",
    "    # Names are stored within the <strong/> tag\n",
    "    name = block.strong.string \n",
    "    \n",
    "    # content structure: space,  name, space, <br/>, description\n",
    "    contents = block.contents\n",
    "    description = contents[4]\n",
    "    \n",
    "    create_faculty(name, description, all_faculty)\n",
    "    \n",
    "    if \"CMNS\" in description:\n",
    "        CMNS_profs.add(name)\n",
    "    \n",
    "    elif \"ENGR\" in description:\n",
    "        ENGR_profs.add(name)\n",
    "        "
   ]
  },
  {
   "cell_type": "code",
   "execution_count": 8,
   "metadata": {},
   "outputs": [
    {
     "name": "stdout",
     "output_type": "stream",
     "text": [
      "{'first_name': 'Andrew', 'last_name': 'Childs', 'colleges': ['CMNS'], 'type': 'Professor'}\n"
     ]
    }
   ],
   "source": [
    "print(all_faculty[\"Childs, Andrew M\"])"
   ]
  },
  {
   "cell_type": "markdown",
   "metadata": {},
   "source": [
    "# Create a databases"
   ]
  },
  {
   "cell_type": "code",
   "execution_count": 9,
   "metadata": {},
   "outputs": [],
   "source": [
    "def create_connection(db_file):\n",
    "    conn = None\n",
    "    print(db_file)\n",
    "    try:\n",
    "        conn = sqlite3.connect(db_file)\n",
    "        return conn\n",
    "    except Error as e:\n",
    "        print(e)\n",
    "\n",
    "    return conn"
   ]
  },
  {
   "cell_type": "code",
   "execution_count": 10,
   "metadata": {},
   "outputs": [],
   "source": [
    "def create_table(conn, create_table_sql, params=()):\n",
    "    try:\n",
    "        c = conn.cursor()\n",
    "        c.execute(create_table_sql, params)\n",
    "    except Error as e:\n",
    "        print(e)"
   ]
  },
  {
   "cell_type": "markdown",
   "metadata": {},
   "source": [
    "## Create a database holding faculty information"
   ]
  },
  {
   "cell_type": "code",
   "execution_count": 11,
   "metadata": {},
   "outputs": [],
   "source": [
    "# Using only the first mentioned college for now, could switch later? Also only considering the colleges that were listed - others are ignored\n",
    "\n",
    "def create_names_table(conn):\n",
    "    names_table = \"\"\" CREATE TABLE IF NOT EXISTS names (\n",
    "                        id integer PRIMARY KEY,\n",
    "                        first_name text NOT NULL,\n",
    "                        last_name text NOT NULL,\n",
    "                        nick_name text,\n",
    "                        type text NOT NULL,\n",
    "                        college text NOT NULL\n",
    "                        \n",
    "                ) \"\"\"\n",
    "    create_table(conn, names_table)"
   ]
  },
  {
   "cell_type": "code",
   "execution_count": 12,
   "metadata": {},
   "outputs": [],
   "source": [
    "def insert_faculty_name(conn, faculty):\n",
    "    sql = \"\"\" INSERT INTO names(first_name,last_name,type,college)\n",
    "                VALUES(?,?,?,?)\"\"\"\n",
    "    \n",
    "    cursor = conn.cursor()\n",
    "    cursor.execute(sql, faculty)\n",
    "    conn.commit()\n",
    "    \n",
    "    return cursor.lastrowid"
   ]
  },
  {
   "cell_type": "code",
   "execution_count": 13,
   "metadata": {},
   "outputs": [
    {
     "name": "stdout",
     "output_type": "stream",
     "text": [
      "G:\\UMD\\FALL_2020\\CMSC320\\final-tutorial/data/db/faculty_names.db\n"
     ]
    }
   ],
   "source": [
    "faculty_names_path = os.path.abspath('.')\n",
    "faculty_names_path = faculty_names_path + \"/data/db/faculty_names.db\"\n",
    "faculty_names_db = create_connection(faculty_names_path)\n",
    "\n",
    "create_names_table(faculty_names_db)\n",
    "                                      \n",
    "\n",
    "for faculty_name in all_faculty:\n",
    "    faculty = all_faculty[faculty_name]\n",
    "    \n",
    "    if not faculty[\"colleges\"]:\n",
    "        college = None\n",
    "    else:\n",
    "        college = faculty[\"colleges\"][0]\n",
    "        \n",
    "    params = (faculty[\"first_name\"], faculty[\"last_name\"], faculty[\"type\"], college)\n",
    "    \n",
    "    insert_faculty_name(faculty_names_db, params)\n",
    "    \n",
    "faculty_names_db.close()"
   ]
  },
  {
   "cell_type": "markdown",
   "metadata": {},
   "source": [
    "## Create a database per professor for comments and submissions mentioning them"
   ]
  },
  {
   "cell_type": "code",
   "execution_count": 14,
   "metadata": {},
   "outputs": [],
   "source": [
    "def create_professor_table(conn, table_name):\n",
    "    professor_table = \"\"\" CREATE TABLE IF NOT EXISTS {table_name} (\n",
    "                            id integer PRIMARY KEY,\n",
    "                            sub_id text NOT NULL,\n",
    "                            body text NOT NULL,\n",
    "                            is_comment integer NOT NULL,\n",
    "                            title text,\n",
    "                            score integer NOT NULL\n",
    "                        )\"\"\".format(table_name=table_name)\n",
    "    create_table(conn, professor_table)"
   ]
  },
  {
   "cell_type": "code",
   "execution_count": 16,
   "metadata": {},
   "outputs": [],
   "source": [
    "def normalize_name(name):\n",
    "    return ''.join(char for char in name if char.isalnum())"
   ]
  },
  {
   "cell_type": "code",
   "execution_count": 17,
   "metadata": {},
   "outputs": [
    {
     "name": "stdout",
     "output_type": "stream",
     "text": [
      "G:\\UMD\\FALL_2020\\CMSC320\\final-tutorial\\data\\db\\professors.db\n"
     ]
    }
   ],
   "source": [
    "directory = os.path.abspath('.')\n",
    "directory = directory + \"\\data\\db\\professors\"\n",
    "\n",
    "for professor in all_faculty:\n",
    "    prof_name = split_name(professor)\n",
    "    prof_name = (normalize_name(prof_name[0]), normalize_name(prof_name[1]))\n",
    "    \n",
    "    table_name = prof_name[0] + \"_\" + prof_name[1] # first_last\n",
    "    create_professor_table(professors_db, table_name)"
   ]
  },
  {
   "cell_type": "markdown",
   "metadata": {},
   "source": [
    "## Requesting Data from the UMD Subreddit with PushShift API"
   ]
  },
  {
   "cell_type": "code",
   "execution_count": null,
   "metadata": {},
   "outputs": [],
   "source": [
    "import praw\n",
    "from psaw import PushshiftAPI\n",
    "\n",
    "api = PushshiftAPI()"
   ]
  },
  {
   "cell_type": "code",
   "execution_count": null,
   "metadata": {},
   "outputs": [],
   "source": [
    "query=\"teli|(mohammmad+teli)\"\n",
    "subs_gen = api.search_submissions(q=query, subreddit='umd', filter=['title', 'selftext'], limit=10)\n",
    "\n",
    "#for sub in subs_gen:\n",
    "#    print(sub)"
   ]
  },
  {
   "cell_type": "code",
   "execution_count": null,
   "metadata": {},
   "outputs": [],
   "source": []
  }
 ],
 "metadata": {
  "kernelspec": {
   "display_name": "Python 3",
   "language": "python",
   "name": "python3"
  },
  "language_info": {
   "codemirror_mode": {
    "name": "ipython",
    "version": 3
   },
   "file_extension": ".py",
   "mimetype": "text/x-python",
   "name": "python",
   "nbconvert_exporter": "python",
   "pygments_lexer": "ipython3",
   "version": "3.8.5"
  }
 },
 "nbformat": 4,
 "nbformat_minor": 4
}
