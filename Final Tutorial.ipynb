{
 "cells": [
  {
   "cell_type": "markdown",
   "metadata": {},
   "source": [
    "# CMSC 320 - Final Tutorial - UMD Subreddit"
   ]
  },
  {
   "cell_type": "code",
   "execution_count": 2,
   "metadata": {},
   "outputs": [],
   "source": [
    "import requests"
   ]
  },
  {
   "cell_type": "code",
   "execution_count": null,
   "metadata": {},
   "outputs": [],
   "source": []
  },
  {
   "cell_type": "code",
   "execution_count": 5,
   "metadata": {},
   "outputs": [],
   "source": [
    "def make_get_request(URL, given_params=None):\n",
    "    \"\"\"Sends a GET request to the given URL.\n",
    "    \n",
    "    Parameters\n",
    "    ----------\n",
    "    URL : str\n",
    "        The url to send a GET request\n",
    "    given_params : dictionary, optional\n",
    "        A dictionary of any additional parameters (default is None)\n",
    "        \n",
    "        \n",
    "    Returns\n",
    "    -------\n",
    "    dictionary\n",
    "        A dictionary containing the JSON response\n",
    "    \"\"\"\n",
    "    \n",
    "    SUCCESS = 200\n",
    "    response = requests.get(URL, params=given_params)\n",
    "    \n",
    "    if (response.status_code == SUCCESS):\n",
    "        return response.json()\n",
    "    else:\n",
    "        return {};"
   ]
  },
  {
   "cell_type": "code",
   "execution_count": 6,
   "metadata": {},
   "outputs": [
    {
     "name": "stdout",
     "output_type": "stream",
     "text": [
      "[{'name': 'A Anthony', 'taught': [{'course_id': 'AMST203', 'semester': '201905'}]}, {'name': 'Aaron Bartlett', 'taught': [{'course_id': 'ENGL101', 'semester': '201908'}]}, {'name': 'Aaron Doliana', 'taught': [{'course_id': 'LING419W', 'semester': '201908'}]}, {'name': 'Aaron Finkle', 'taught': [{'course_id': 'ECON306', 'semester': '201901'}, {'course_id': 'ECON456', 'semester': '201901'}, {'course_id': 'ECON488K', 'semester': '201901'}, {'course_id': 'ECON641', 'semester': '201901'}, {'course_id': 'BUSO604', 'semester': '201905'}, {'course_id': 'ECON306', 'semester': '201908'}, {'course_id': 'ECON456', 'semester': '201908'}, {'course_id': 'ECON488K', 'semester': '201908'}, {'course_id': 'ECON641', 'semester': '201908'}, {'course_id': 'ECON306', 'semester': '202001'}, {'course_id': 'ECON456', 'semester': '202001'}, {'course_id': 'ECON488K', 'semester': '202001'}, {'course_id': 'ECON641', 'semester': '202001'}, {'course_id': 'BUSO604', 'semester': '202005'}, {'course_id': 'ECON306', 'semester': '202008'}, {'course_id': 'ECON456', 'semester': '202008'}, {'course_id': 'ECON641', 'semester': '202008'}]}, {'name': 'Aaron Goldman', 'taught': []}, {'name': 'Aaron Hertz', 'taught': [{'course_id': 'HACS208E', 'semester': '201901'}, {'course_id': 'HACS208E', 'semester': '202001'}]}, {'name': 'Aaron Hood', 'taught': [{'course_id': 'HESI470', 'semester': '201901'}, {'course_id': 'EDHI338L', 'semester': '201908'}, {'course_id': 'HESI470', 'semester': '202001'}]}, {'name': 'Aaron Mannes', 'taught': [{'course_id': 'PLCY780', 'semester': '202008'}]}, {'name': 'Aaron Peisner', 'taught': [{'course_id': 'MUSC329B', 'semester': '201901'}, {'course_id': 'MUSC491', 'semester': '201901'}, {'course_id': 'MUSC649B', 'semester': '201901'}, {'course_id': 'MUSC649B', 'semester': '202001'}]}, {'name': 'Aaron Posner', 'taught': []}, {'name': 'Aaron Rappaport', 'taught': [{'course_id': 'PHYS332', 'semester': '201901'}]}, {'name': 'Aaron Swanlek', 'taught': [{'course_id': 'COMM107', 'semester': '201908'}, {'course_id': 'COMM107', 'semester': '202001'}, {'course_id': 'COMM107', 'semester': '202008'}]}, {'name': 'Abani Pradhan', 'taught': [{'course_id': 'NFSC431', 'semester': '201901'}, {'course_id': 'NFSC112', 'semester': '201908'}, {'course_id': 'NFSC679R', 'semester': '201908'}, {'course_id': 'NFSC431', 'semester': '202001'}, {'course_id': 'NFSC112', 'semester': '202008'}, {'course_id': 'NFSC679R', 'semester': '202008'}]}, {'name': 'Abbie Basile', 'taught': [{'course_id': 'INST201', 'semester': '201901'}, {'course_id': 'LBSC713', 'semester': '201901'}, {'course_id': 'LBSC702', 'semester': '201908'}, {'course_id': 'LBSC713', 'semester': '202001'}, {'course_id': 'LBSC702', 'semester': '202008'}]}, {'name': 'Abbie Bennett', 'taught': [{'course_id': 'JOUR201', 'semester': '202001'}, {'course_id': 'JOUR320', 'semester': '202008'}]}, {'name': 'Abby Shantzis', 'taught': [{'course_id': 'BIOE221', 'semester': '201901'}, {'course_id': 'BIOE221', 'semester': '201905'}, {'course_id': 'BIOE221', 'semester': '201908'}, {'course_id': 'BIOE221', 'semester': '202001'}, {'course_id': 'BIOE221', 'semester': '202005'}, {'course_id': 'BIOE221', 'semester': '202008'}]}, {'name': 'Abdel-Razak Kadry', 'taught': [{'course_id': 'MIEH740', 'semester': '201908'}, {'course_id': 'MIEH607', 'semester': '202005'}, {'course_id': 'MIEH740', 'semester': '202008'}]}, {'name': 'Abdirisak Mohamed', 'taught': [{'course_id': 'INST354', 'semester': '201901'}, {'course_id': 'INST314', 'semester': '201908'}, {'course_id': 'INST414', 'semester': '202008'}]}, {'name': 'Abdollah Bagheri', 'taught': [{'course_id': 'ENME470', 'semester': '201905'}]}, {'name': 'Abhijit Dasgupta', 'taught': [{'course_id': 'ENME684', 'semester': '201901'}, {'course_id': 'ENAE202', 'semester': '201908'}, {'course_id': 'ENME202', 'semester': '201908'}, {'course_id': 'ENME672', 'semester': '202001'}, {'course_id': 'ENAE202', 'semester': '202008'}, {'course_id': 'ENRE600', 'semester': '202008'}]}, {'name': 'Abhinav Bhatele', 'taught': [{'course_id': 'CMSC714', 'semester': '201908'}, {'course_id': 'CMSC498X', 'semester': '202008'}, {'course_id': 'CMSC818X', 'semester': '202008'}]}, {'name': 'Abhinav Shrivastava', 'taught': [{'course_id': 'CMSC498L', 'semester': '201901'}, {'course_id': 'ENSE799', 'semester': '201905'}, {'course_id': 'CMSC828I', 'semester': '201908'}, {'course_id': 'CMSC498L', 'semester': '202001'}, {'course_id': 'ENTS699G', 'semester': '202001'}, {'course_id': 'ENSE799', 'semester': '202005'}, {'course_id': 'CMSC828I', 'semester': '202008'}]}, {'name': 'Abigail Bickford', 'taught': [{'course_id': 'CPGH101', 'semester': '201901'}, {'course_id': 'CPGH230', 'semester': '201901'}, {'course_id': 'CPGH240', 'semester': '201901'}, {'course_id': 'CPGH250', 'semester': '201901'}, {'course_id': 'CPGH270', 'semester': '201901'}]}, {'name': 'Abigail Ferretti', 'taught': [{'course_id': 'RDEV620', 'semester': '201908'}, {'course_id': 'RDEV620', 'semester': '202008'}]}, {'name': 'Abigail McEwen', 'taught': [{'course_id': 'ARTH389K', 'semester': '201901'}, {'course_id': 'ARTH386', 'semester': '201905'}, {'course_id': 'ARTH260', 'semester': '201908'}, {'course_id': 'ARTH488F', 'semester': '201908'}, {'course_id': 'ARTH768A', 'semester': '202001'}, {'course_id': 'ARTH386', 'semester': '202005'}, {'course_id': 'ARTH260', 'semester': '202008'}, {'course_id': 'ARTH260C', 'semester': '202008'}, {'course_id': 'ARTH262', 'semester': '202008'}]}, {'name': 'Abigail Upshaw', 'taught': [{'course_id': 'ARTH201', 'semester': '201812'}, {'course_id': 'ARTH201', 'semester': '201905'}, {'course_id': 'ARTH201', 'semester': '201908'}, {'course_id': 'ARTH201', 'semester': '201912'}, {'course_id': 'ARTH201', 'semester': '202005'}, {'course_id': 'ARTH201', 'semester': '202008'}]}, {'name': 'Abolhassan Jawahery', 'taught': [{'course_id': 'PHYS275', 'semester': '201901'}, {'course_id': 'PHYS758E', 'semester': '201901'}, {'course_id': 'PHYS405', 'semester': '201908'}, {'course_id': 'PHYS275', 'semester': '202001'}, {'course_id': 'PHYS405', 'semester': '202008'}, {'course_id': 'PHYS273', 'semester': '202008'}, {'course_id': 'PHYS273H', 'semester': '202008'}]}, {'name': 'Abram Kagan', 'taught': [{'course_id': 'STAT386', 'semester': '201901'}, {'course_id': 'STAT410', 'semester': '201901'}, {'course_id': 'SURV410', 'semester': '201901'}]}, {'name': 'Adam Fracchia', 'taught': [{'course_id': 'ANTH240', 'semester': '201908'}, {'course_id': 'ANTH496', 'semester': '202005'}, {'course_id': 'ANTH498Y', 'semester': '202005'}, {'course_id': 'ANTH688Y', 'semester': '202005'}, {'course_id': 'ANTH696', 'semester': '202005'}]}, {'name': 'Adam Grise', 'taught': [{'course_id': 'MUED474', 'semester': '201901'}]}]\n"
     ]
    }
   ],
   "source": [
    "professors_json = make_get_request(\"https://api.umd.io/v1/professors\")\n",
    "print(professors_json)"
   ]
  },
  {
   "cell_type": "code",
   "execution_count": null,
   "metadata": {},
   "outputs": [],
   "source": []
  }
 ],
 "metadata": {
  "kernelspec": {
   "display_name": "Python 3",
   "language": "python",
   "name": "python3"
  },
  "language_info": {
   "codemirror_mode": {
    "name": "ipython",
    "version": 3
   },
   "file_extension": ".py",
   "mimetype": "text/x-python",
   "name": "python",
   "nbconvert_exporter": "python",
   "pygments_lexer": "ipython3",
   "version": "3.8.5"
  }
 },
 "nbformat": 4,
 "nbformat_minor": 4
}
