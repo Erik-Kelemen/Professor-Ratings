{
 "cells": [
  {
   "cell_type": "markdown",
   "metadata": {},
   "source": [
    "# CMSC 320 - Final Tutorial - UMD Subreddit"
   ]
  },
  {
   "cell_type": "code",
   "execution_count": 16,
   "metadata": {},
   "outputs": [],
   "source": [
    "import requests"
   ]
  },
  {
   "cell_type": "code",
   "execution_count": 2,
   "metadata": {},
   "outputs": [],
   "source": [
    "def make_get_request(URL, headers=None, given_params=None):\n",
    "    \"\"\"Sends a GET request to the given URL.\n",
    "    \n",
    "    Parameters\n",
    "    ----------\n",
    "    URL : str\n",
    "        The url to send a GET request\n",
    "    given_params : dictionary, optional\n",
    "        A dictionary of any additional parameters (default is None)\n",
    "        \n",
    "        \n",
    "    Returns\n",
    "    -------\n",
    "    dictionary\n",
    "        A dictionary containing the JSON response\n",
    "    \"\"\"\n",
    "    \n",
    "    SUCCESS = 200\n",
    "    response = requests.get(URL, headers=headers, params=given_params)\n",
    "    \n",
    "    if (response.status_code == SUCCESS):\n",
    "        return response\n",
    "    else:\n",
    "        return {};"
   ]
  },
  {
   "cell_type": "markdown",
   "metadata": {},
   "source": [
    "## Scraping Professor Names"
   ]
  },
  {
   "cell_type": "markdown",
   "metadata": {},
   "source": [
    "### Attempted to use umd.io, but it appears to be rather glitchy"
   ]
  },
  {
   "cell_type": "code",
   "execution_count": 3,
   "metadata": {},
   "outputs": [
    {
     "name": "stdout",
     "output_type": "stream",
     "text": [
      "\n"
     ]
    }
   ],
   "source": [
    "\"\"\"\n",
    "umd_professor_url = \"https://api.umd.io/v1/professors\";\n",
    "page = 1\n",
    "professorNames = set() \n",
    "params = {'departments': 'CMSC', 'page': page}\n",
    "\n",
    "json = make_get_request(umd_professor_url, params)\n",
    "professorNames.update([professor['name'] for professor in json])\n",
    "\n",
    "while json is not None:\n",
    "    page = page + 1\n",
    "    params['page'] = page\n",
    "    \n",
    "    json = make_get_request(umd_professor_url, params)\n",
    "    if json:\n",
    "        professorNames.update([professor['name'] for professor in json])\n",
    "        \n",
    "    print(professorNames)\n",
    "        \n",
    "# print(professorNames)\n",
    "\"\"\"\n",
    "print()"
   ]
  },
  {
   "cell_type": "markdown",
   "metadata": {},
   "source": [
    "### Doing it myself"
   ]
  },
  {
   "cell_type": "code",
   "execution_count": 4,
   "metadata": {},
   "outputs": [],
   "source": [
    "from bs4 import BeautifulSoup\n",
    "\n",
    "# Headers for the request\n",
    "headers = {\n",
    "    \"User-Agent\": \"Mozilla/5.0 (Windows NT 10.0; Win64; x64; rv:82.0) Gecko/20100101 Firefox/82.0\",\n",
    "    \"Access-Control-Allow-Origin\": \"*\",\n",
    "    \"Access-Control-Allow-Headers\": \"Content-Type\",\n",
    "    \"Access-Control-Allow-Methods\": \"GET\"\n",
    "}\n",
    "\n",
    "faculty_url = \"https://academiccatalog.umd.edu/undergraduate/administrators-officials-faculty/\"\n",
    "response = make_get_request(faculty_url, headers=headers)\n",
    "\n",
    "soup = BeautifulSoup(response.content, 'html.parser')"
   ]
  },
  {
   "cell_type": "code",
   "execution_count": 5,
   "metadata": {},
   "outputs": [],
   "source": [
    "faculty_blocks = soup.find_all(\"p\", class_=\"faculty-item\")\n",
    "\n",
    "# Keeping track of only CS and ENGR professors, but this is arbitrary\n",
    "CMNS_profs = set()\n",
    "ENGR_profs = set()\n",
    "all_profs = set()\n",
    "\n",
    "for block in faculty_blocks:\n",
    "    \n",
    "    # Names are stored within the <strong/> tag\n",
    "    name = block.strong.string \n",
    "    \n",
    "    # content structure: space,  name, space, <br/>, description\n",
    "    contents = block.contents\n",
    "    description = contents[4]\n",
    "    \n",
    "    all_profs.add(name)\n",
    "    \n",
    "    if \"CMNS\" in description:\n",
    "        CMNS_profs.add(name)\n",
    "    \n",
    "    elif \"ENGR\" in description:\n",
    "        ENGR_profs.add(name)\n",
    "        "
   ]
  },
  {
   "cell_type": "code",
   "execution_count": 13,
   "metadata": {},
   "outputs": [],
   "source": [
    "def split_name(name):\n",
    "    # Name structure: <last name>, <first name> (<middle name/initial>)\n",
    "    split = name.split(',')\n",
    "    last_name = split[0]\n",
    "    \n",
    "    first_name = split[1].split()[0]\n",
    "    \n",
    "    return (first_name, last_name)"
   ]
  },
  {
   "cell_type": "markdown",
   "metadata": {},
   "source": [
    "### Create a database per professor to hold the comments and submissions mentioning them"
   ]
  },
  {
   "cell_type": "code",
   "execution_count": null,
   "metadata": {},
   "outputs": [],
   "source": [
    "import sqlite3\n",
    "from sqlite3 import Error"
   ]
  },
  {
   "cell_type": "code",
   "execution_count": null,
   "metadata": {},
   "outputs": [],
   "source": [
    "def create_connection(db_file):\n",
    "    conn = None\n",
    "    try:\n",
    "        conn = sqlite3.connect(db_file)\n",
    "    except Error as e:\n",
    "        print(e)\n",
    "    finally:\n",
    "        if conn:\n",
    "            conn.close()"
   ]
  },
  {
   "cell_type": "code",
   "execution_count": null,
   "metadata": {},
   "outputs": [],
   "source": [
    "def create_table(conn, create_table_sql):\n",
    "    try:\n",
    "        c = conn.cursor()\n",
    "        c.execute(create_table_sql)\n",
    "    except Error as e:\n",
    "        print(e)"
   ]
  },
  {
   "cell_type": "code",
   "execution_count": null,
   "metadata": {},
   "outputs": [],
   "source": [
    "def create_professor_table(conn, professor_name):\n",
    "    professor_table = \"\"\" CREATE TABLE IF NOT EXISTS {professor} (\n",
    "                            id integer PRIMARY KEY,\n",
    "                            first_name text NOT NULL,\n",
    "                            last_name text NOT NULL,\n",
    "                            sub_id text NOT NULL,\n",
    "                            body text NOT NULL,\n",
    "                            is_comment integer NOT NULL,\n",
    "                            title text,\n",
    "                            score integer NOT NULL\n",
    "                        )\"\"\".format(professor=professor_name)\n",
    "    \n",
    "    create_table(conn, professor_table)"
   ]
  },
  {
   "cell_type": "markdown",
   "metadata": {},
   "source": [
    "## Requesting Data from the UMD Subreddit with PushShift API"
   ]
  },
  {
   "cell_type": "code",
   "execution_count": 6,
   "metadata": {},
   "outputs": [],
   "source": [
    "import praw\n",
    "from psaw import PushshiftAPI\n",
    "\n",
    "api = PushshiftAPI()\n",
    "\n",
    "query=\"teli|(mohammmad+teli)\"\n",
    "subs_gen = api.search_submissions(q=query, subreddit='umd', filter=['title', 'selftext'], limit=10)\n",
    "\n",
    "#for sub in subs_gen:\n",
    "#    print(sub)"
   ]
  },
  {
   "cell_type": "code",
   "execution_count": null,
   "metadata": {},
   "outputs": [],
   "source": []
  }
 ],
 "metadata": {
  "kernelspec": {
   "display_name": "Python 3",
   "language": "python",
   "name": "python3"
  },
  "language_info": {
   "codemirror_mode": {
    "name": "ipython",
    "version": 3
   },
   "file_extension": ".py",
   "mimetype": "text/x-python",
   "name": "python",
   "nbconvert_exporter": "python",
   "pygments_lexer": "ipython3",
   "version": "3.8.5"
  }
 },
 "nbformat": 4,
 "nbformat_minor": 4
}
